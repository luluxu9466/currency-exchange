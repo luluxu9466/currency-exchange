{
 "cells": [
  {
   "cell_type": "code",
   "execution_count": 1,
   "metadata": {},
   "outputs": [],
   "source": [
    "# set dependencies\n",
    "import pandas as pd\n",
    "import numpy as np\n",
    "import matplotlib.pyplot as plt\n",
    "import matplotlib.ticker as mtick\n",
    "import re as re"
   ]
  },
  {
   "cell_type": "code",
   "execution_count": 2,
   "metadata": {},
   "outputs": [
    {
     "data": {
      "text/plain": [
       "Year    int64\n",
       "GDP     int64\n",
       "dtype: object"
      ]
     },
     "execution_count": 2,
     "metadata": {},
     "output_type": "execute_result"
    }
   ],
   "source": [
    "# pull gdp data\n",
    "raw_gdp = \"D:/Git/MChinchilla_GW_HW/07_Project_01/USA GDP.xlsx\"\n",
    "gdp = pd.read_excel(raw_gdp)\n",
    "gdp.dtypes"
   ]
  },
  {
   "cell_type": "code",
   "execution_count": 3,
   "metadata": {},
   "outputs": [
    {
     "data": {
      "text/html": [
       "<div>\n",
       "<style scoped>\n",
       "    .dataframe tbody tr th:only-of-type {\n",
       "        vertical-align: middle;\n",
       "    }\n",
       "\n",
       "    .dataframe tbody tr th {\n",
       "        vertical-align: top;\n",
       "    }\n",
       "\n",
       "    .dataframe thead th {\n",
       "        text-align: right;\n",
       "    }\n",
       "</style>\n",
       "<table border=\"1\" class=\"dataframe\">\n",
       "  <thead>\n",
       "    <tr style=\"text-align: right;\">\n",
       "      <th></th>\n",
       "      <th>Unnamed: 0</th>\n",
       "      <th>Date</th>\n",
       "      <th>Expenditures</th>\n",
       "      <th>Year</th>\n",
       "      <th>Month</th>\n",
       "    </tr>\n",
       "  </thead>\n",
       "  <tbody>\n",
       "    <tr>\n",
       "      <th>0</th>\n",
       "      <td>0</td>\n",
       "      <td>1/1/2005</td>\n",
       "      <td>1620</td>\n",
       "      <td>2005</td>\n",
       "      <td>1</td>\n",
       "    </tr>\n",
       "    <tr>\n",
       "      <th>1</th>\n",
       "      <td>1</td>\n",
       "      <td>2/1/2005</td>\n",
       "      <td>1768</td>\n",
       "      <td>2005</td>\n",
       "      <td>2</td>\n",
       "    </tr>\n",
       "    <tr>\n",
       "      <th>2</th>\n",
       "      <td>2</td>\n",
       "      <td>3/1/2005</td>\n",
       "      <td>1844</td>\n",
       "      <td>2005</td>\n",
       "      <td>3</td>\n",
       "    </tr>\n",
       "    <tr>\n",
       "      <th>3</th>\n",
       "      <td>3</td>\n",
       "      <td>4/1/2005</td>\n",
       "      <td>1987</td>\n",
       "      <td>2005</td>\n",
       "      <td>4</td>\n",
       "    </tr>\n",
       "    <tr>\n",
       "      <th>4</th>\n",
       "      <td>4</td>\n",
       "      <td>5/1/2005</td>\n",
       "      <td>1901</td>\n",
       "      <td>2005</td>\n",
       "      <td>5</td>\n",
       "    </tr>\n",
       "  </tbody>\n",
       "</table>\n",
       "</div>"
      ],
      "text/plain": [
       "   Unnamed: 0      Date  Expenditures  Year  Month\n",
       "0           0  1/1/2005          1620  2005      1\n",
       "1           1  2/1/2005          1768  2005      2\n",
       "2           2  3/1/2005          1844  2005      3\n",
       "3           3  4/1/2005          1987  2005      4\n",
       "4           4  5/1/2005          1901  2005      5"
      ]
     },
     "execution_count": 3,
     "metadata": {},
     "output_type": "execute_result"
    }
   ],
   "source": [
    "# pull travel expenditure data\n",
    "exp_path = \"D:/Git/MChinchilla_GW_HW/07_Project_01/cleaned_travel_expenditures.csv\"\n",
    "exp = pd.read_csv(exp_path)\n",
    "exp.head()"
   ]
  },
  {
   "cell_type": "code",
   "execution_count": 4,
   "metadata": {},
   "outputs": [
    {
     "data": {
      "text/plain": [
       "Year            int64\n",
       "Expenditures    int64\n",
       "dtype: object"
      ]
     },
     "execution_count": 4,
     "metadata": {},
     "output_type": "execute_result"
    }
   ],
   "source": [
    "# collapse-sum expenditures by year\n",
    "total = exp[\"Expenditures\"].groupby(exp[\"Year\"]).sum()\n",
    "total = pd.DataFrame(total)\n",
    "total.reset_index(inplace= True)\n",
    "total[\"Expenditures\"] = total[\"Expenditures\"] * 1000000\n",
    "\n",
    "total.dtypes"
   ]
  },
  {
   "cell_type": "code",
   "execution_count": 5,
   "metadata": {},
   "outputs": [
    {
     "data": {
      "text/html": [
       "<div>\n",
       "<style scoped>\n",
       "    .dataframe tbody tr th:only-of-type {\n",
       "        vertical-align: middle;\n",
       "    }\n",
       "\n",
       "    .dataframe tbody tr th {\n",
       "        vertical-align: top;\n",
       "    }\n",
       "\n",
       "    .dataframe thead th {\n",
       "        text-align: right;\n",
       "    }\n",
       "</style>\n",
       "<table border=\"1\" class=\"dataframe\">\n",
       "  <thead>\n",
       "    <tr style=\"text-align: right;\">\n",
       "      <th></th>\n",
       "      <th>Year</th>\n",
       "      <th>GDP</th>\n",
       "      <th>Expenditures</th>\n",
       "      <th>% GDP Expenditures</th>\n",
       "    </tr>\n",
       "  </thead>\n",
       "  <tbody>\n",
       "    <tr>\n",
       "      <th>0</th>\n",
       "      <td>2005</td>\n",
       "      <td>13036600000000</td>\n",
       "      <td>20658000000</td>\n",
       "      <td>0.16</td>\n",
       "    </tr>\n",
       "    <tr>\n",
       "      <th>1</th>\n",
       "      <td>2006</td>\n",
       "      <td>13814600000000</td>\n",
       "      <td>19929000000</td>\n",
       "      <td>0.14</td>\n",
       "    </tr>\n",
       "    <tr>\n",
       "      <th>2</th>\n",
       "      <td>2007</td>\n",
       "      <td>14451900000000</td>\n",
       "      <td>31436000000</td>\n",
       "      <td>0.22</td>\n",
       "    </tr>\n",
       "    <tr>\n",
       "      <th>3</th>\n",
       "      <td>2008</td>\n",
       "      <td>14712800000000</td>\n",
       "      <td>44882000000</td>\n",
       "      <td>0.31</td>\n",
       "    </tr>\n",
       "    <tr>\n",
       "      <th>4</th>\n",
       "      <td>2009</td>\n",
       "      <td>14448900000000</td>\n",
       "      <td>43053000000</td>\n",
       "      <td>0.30</td>\n",
       "    </tr>\n",
       "    <tr>\n",
       "      <th>5</th>\n",
       "      <td>2010</td>\n",
       "      <td>14992100000000</td>\n",
       "      <td>57948000000</td>\n",
       "      <td>0.39</td>\n",
       "    </tr>\n",
       "    <tr>\n",
       "      <th>6</th>\n",
       "      <td>2011</td>\n",
       "      <td>15542600000000</td>\n",
       "      <td>71185000000</td>\n",
       "      <td>0.46</td>\n",
       "    </tr>\n",
       "    <tr>\n",
       "      <th>7</th>\n",
       "      <td>2012</td>\n",
       "      <td>16197000000000</td>\n",
       "      <td>71090000000</td>\n",
       "      <td>0.44</td>\n",
       "    </tr>\n",
       "    <tr>\n",
       "      <th>8</th>\n",
       "      <td>2013</td>\n",
       "      <td>16784800000000</td>\n",
       "      <td>88352000000</td>\n",
       "      <td>0.53</td>\n",
       "    </tr>\n",
       "    <tr>\n",
       "      <th>9</th>\n",
       "      <td>2014</td>\n",
       "      <td>17521700000000</td>\n",
       "      <td>95432000000</td>\n",
       "      <td>0.54</td>\n",
       "    </tr>\n",
       "  </tbody>\n",
       "</table>\n",
       "</div>"
      ],
      "text/plain": [
       "   Year             GDP  Expenditures  % GDP Expenditures\n",
       "0  2005  13036600000000   20658000000                0.16\n",
       "1  2006  13814600000000   19929000000                0.14\n",
       "2  2007  14451900000000   31436000000                0.22\n",
       "3  2008  14712800000000   44882000000                0.31\n",
       "4  2009  14448900000000   43053000000                0.30\n",
       "5  2010  14992100000000   57948000000                0.39\n",
       "6  2011  15542600000000   71185000000                0.46\n",
       "7  2012  16197000000000   71090000000                0.44\n",
       "8  2013  16784800000000   88352000000                0.53\n",
       "9  2014  17521700000000   95432000000                0.54"
      ]
     },
     "execution_count": 5,
     "metadata": {},
     "output_type": "execute_result"
    }
   ],
   "source": [
    "# merge total yearly expenditures and yearly gdp by year\n",
    "df = pd.merge(gdp, total, on = \"Year\")\n",
    "\n",
    "# determine what percentage of gdp is accounted for by travel expenditures\n",
    "df[\"% GDP Expenditures\"] = round(100 * df[\"Expenditures\"] / df[\"GDP\"], 2)\n",
    "df"
   ]
  },
  {
   "cell_type": "code",
   "execution_count": 6,
   "metadata": {},
   "outputs": [
    {
     "name": "stdout",
     "output_type": "stream",
     "text": [
      "best fit line:\n",
      "y = -17531785375757.58 + 8751521212.12x\n"
     ]
    },
    {
     "data": {
      "image/png": "[encoded data removed]",
      "text/plain": [
       "<Figure size 432x288 with 1 Axes>"
      ]
     },
     "metadata": {
      "needs_background": "light"
     },
     "output_type": "display_data"
    }
   ],
   "source": [
    "# plot expenditures by year\n",
    "plt.scatter(df[\"Year\"], df[\"Expenditures\"])\n",
    "\n",
    "plt.title(\"Travel Expenditures Coming Into the USA By Year\")\n",
    "plt.xlabel(\"Year\")\n",
    "plt.ylabel(\"Billions of Dollars\")\n",
    "plt.grid()\n",
    "plt.ticklabel_format(axis='y', style='sci', scilimits=(9, 9))\n",
    "plt.ylim(0, 100000000000)\n",
    "plt.xticks(df[\"Year\"], rotation = \"vertical\")\n",
    "\n",
    "# define line of best fit\n",
    "def best_fit(X, Y):\n",
    "\n",
    "    xbar = sum(X)/len(X)\n",
    "    ybar = sum(Y)/len(Y)\n",
    "    n = len(X) # or len(Y)\n",
    "\n",
    "    numer = sum([xi*yi for xi,yi in zip(X, Y)]) - n * xbar * ybar\n",
    "    denum = sum([xi**2 for xi in X]) - n * xbar**2\n",
    "\n",
    "    b = numer / denum\n",
    "    a = ybar - b * xbar\n",
    "\n",
    "    print('best fit line:\\ny = {:.2f} + {:.2f}x'.format(a, b))\n",
    "\n",
    "    return a, b\n",
    "\n",
    "# solution\n",
    "a, b = best_fit(df[\"Year\"], df[\"Expenditures\"])\n",
    "\n",
    "# plot points and fit line\n",
    "yfit = [a + b * xi for xi in df[\"Year\"]]\n",
    "plt.plot(df[\"Year\"], yfit)\n",
    "\n",
    "# save graph\n",
    "plt.savefig(\"travel_exp.jpeg\")"
   ]
  },
  {
   "cell_type": "code",
   "execution_count": 7,
   "metadata": {},
   "outputs": [
    {
     "name": "stdout",
     "output_type": "stream",
     "text": [
      "best fit line:\n",
      "y = -872870889696969.62 + 441911515151.52x\n"
     ]
    },
    {
     "data": {
      "image/png": "[encoded data removed]",
      "text/plain": [
       "<Figure size 432x288 with 1 Axes>"
      ]
     },
     "metadata": {
      "needs_background": "light"
     },
     "output_type": "display_data"
    }
   ],
   "source": [
    "# plot gdp by year\n",
    "plt.scatter(df[\"Year\"], df[\"GDP\"])\n",
    "\n",
    "plt.title(\"USA GDP By Year\")\n",
    "plt.xlabel(\"Year\")\n",
    "plt.ylabel(\"Billions of Dollars\")\n",
    "plt.grid()\n",
    "plt.ticklabel_format(axis='y', style='sci', scilimits=(9, 9))\n",
    "plt.ylim(10000000000000, 20000000000000)\n",
    "plt.xticks(df[\"Year\"], rotation = \"vertical\")\n",
    "\n",
    "# solution\n",
    "a, b = best_fit(df[\"Year\"], df[\"GDP\"])\n",
    "\n",
    "# plot points and fit line\n",
    "yfit = [a + b * xi for xi in df[\"Year\"]]\n",
    "plt.plot(df[\"Year\"], yfit)\n",
    "\n",
    "plt.savefig(\"gdp.jpeg\")"
   ]
  },
  {
   "cell_type": "code",
   "execution_count": 8,
   "metadata": {},
   "outputs": [
    {
     "name": "stdout",
     "output_type": "stream",
     "text": [
      "best fit line:\n",
      "y = -94.52 + 0.05x\n"
     ]
    },
    {
     "data": {
      "image/png": "[encoded data removed]",
      "text/plain": [
       "<Figure size 432x288 with 1 Axes>"
      ]
     },
     "metadata": {
      "needs_background": "light"
     },
     "output_type": "display_data"
    }
   ],
   "source": [
    "# plot % of gdp accounted for TE\n",
    "plt.scatter(df[\"Year\"], df[\"% GDP Expenditures\"])\n",
    "\n",
    "plt.title(\"% of USA GDP Accounted By TE By Year\")\n",
    "plt.xlabel(\"Year\")\n",
    "plt.ylabel(\"% of GDP Accounted\")\n",
    "plt.grid()\n",
    "plt.ylim(0, 1)\n",
    "plt.xticks(df[\"Year\"], rotation = \"vertical\")\n",
    "\n",
    "# solution\n",
    "a, b = best_fit(df[\"Year\"], df[\"% GDP Expenditures\"])\n",
    "\n",
    "# plot points and fit line\n",
    "yfit = [a + b * xi for xi in df[\"Year\"]]\n",
    "plt.plot(df[\"Year\"], yfit)\n",
    "\n",
    "plt.savefig(\"pct_gdp.jpeg\")"
   ]
  },
  {
   "cell_type": "code",
   "execution_count": null,
   "metadata": {},
   "outputs": [],
   "source": []
  }
 ],
 "metadata": {
  "kernelspec": {
   "display_name": "Python 3",
   "language": "python",
   "name": "python3"
  },
  "language_info": {
   "codemirror_mode": {
    "name": "ipython",
    "version": 3
   },
   "file_extension": ".py",
   "mimetype": "text/x-python",
   "name": "python",
   "nbconvert_exporter": "python",
   "pygments_lexer": "ipython3",
   "version": "3.7.3"
  }
 },
 "nbformat": 4,
 "nbformat_minor": 2
}
