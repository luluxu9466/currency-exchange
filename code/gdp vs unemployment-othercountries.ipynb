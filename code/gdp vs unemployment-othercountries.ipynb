{
 "cells": [
  {
   "cell_type": "code",
   "execution_count": 1,
   "metadata": {},
   "outputs": [],
   "source": [
    "# Dependencies\n",
    "import matplotlib.pyplot as plt\n",
    "import numpy as np\n",
    "import pandas as pd"
   ]
  },
  {
   "cell_type": "markdown",
   "metadata": {},
   "source": [
    "# Setup dataframes for graphing\n",
    "\n",
    "* Read data files into dataframes (unemployment.csv and gdp.csv)\n",
    "\n",
    "* Set \"Country Code\" as index for future referencing of rows\n",
    "\n",
    "* Calculate world averages"
   ]
  },
  {
   "cell_type": "code",
   "execution_count": 2,
   "metadata": {},
   "outputs": [],
   "source": [
    "# Read CSV\n",
    "unemployed_data = pd.read_csv(\"data_cleaning/unemployment_yearly.csv\")\n",
    "gdp_data = pd.read_csv(\"data_cleaning/gdp.csv\")\n",
    "gdp_data.rename(columns={\"2005 [YR2005]\":\"2005\", \"2006 [YR2006]\":\"2006\", \"2007 [YR2007]\":\"2007\", \"2008 [YR2008]\":\"2008\", \"2009 [YR2009]\":\"2009\", \"2010 [YR2010]\":\"2010\", \"2011 [YR2011]\":\"2011\", \"2012 [YR2012]\":\"2012\", \"2013 [YR2013]\":\"2013\", \"2014 [YR2014]\":\"2014\", \"2015 [YR2015]\":\"2015\"}, inplace=True)\n",
    "gdp_data.head()\n",
    "gdp_data = gdp_data.set_index(\"Country Code\")"
   ]
  },
  {
   "cell_type": "code",
   "execution_count": 3,
   "metadata": {},
   "outputs": [],
   "source": [
    "# Set the 'Country Code' to be our index for easy referencing of rows\n",
    "unemployed_data = unemployed_data.set_index(\"Country Code\")"
   ]
  },
  {
   "cell_type": "code",
   "execution_count": 4,
   "metadata": {},
   "outputs": [
    {
     "data": {
      "text/html": [
       "<div>\n",
       "<style scoped>\n",
       "    .dataframe tbody tr th:only-of-type {\n",
       "        vertical-align: middle;\n",
       "    }\n",
       "\n",
       "    .dataframe tbody tr th {\n",
       "        vertical-align: top;\n",
       "    }\n",
       "\n",
       "    .dataframe thead th {\n",
       "        text-align: right;\n",
       "    }\n",
       "</style>\n",
       "<table border=\"1\" class=\"dataframe\">\n",
       "  <thead>\n",
       "    <tr style=\"text-align: right;\">\n",
       "      <th></th>\n",
       "      <th>Unemployment</th>\n",
       "      <th>GDP</th>\n",
       "    </tr>\n",
       "  </thead>\n",
       "  <tbody>\n",
       "    <tr>\n",
       "      <td>2005</td>\n",
       "      <td>8.141757</td>\n",
       "      <td>4.468527e+08</td>\n",
       "    </tr>\n",
       "    <tr>\n",
       "      <td>2006</td>\n",
       "      <td>7.593323</td>\n",
       "      <td>4.495252e+08</td>\n",
       "    </tr>\n",
       "    <tr>\n",
       "      <td>2007</td>\n",
       "      <td>7.066650</td>\n",
       "      <td>4.521099e+08</td>\n",
       "    </tr>\n",
       "    <tr>\n",
       "      <td>2008</td>\n",
       "      <td>6.892261</td>\n",
       "      <td>4.546547e+08</td>\n",
       "    </tr>\n",
       "    <tr>\n",
       "      <td>2009</td>\n",
       "      <td>7.824932</td>\n",
       "      <td>4.570887e+08</td>\n",
       "    </tr>\n",
       "    <tr>\n",
       "      <td>2010</td>\n",
       "      <td>7.963419</td>\n",
       "      <td>4.594669e+08</td>\n",
       "    </tr>\n",
       "    <tr>\n",
       "      <td>2011</td>\n",
       "      <td>7.892899</td>\n",
       "      <td>4.617005e+08</td>\n",
       "    </tr>\n",
       "    <tr>\n",
       "      <td>2012</td>\n",
       "      <td>7.903058</td>\n",
       "      <td>4.639746e+08</td>\n",
       "    </tr>\n",
       "    <tr>\n",
       "      <td>2013</td>\n",
       "      <td>7.916960</td>\n",
       "      <td>4.662527e+08</td>\n",
       "    </tr>\n",
       "    <tr>\n",
       "      <td>2014</td>\n",
       "      <td>7.709996</td>\n",
       "      <td>4.686364e+08</td>\n",
       "    </tr>\n",
       "    <tr>\n",
       "      <td>2015</td>\n",
       "      <td>7.588368</td>\n",
       "      <td>4.710581e+08</td>\n",
       "    </tr>\n",
       "  </tbody>\n",
       "</table>\n",
       "</div>"
      ],
      "text/plain": [
       "      Unemployment           GDP\n",
       "2005      8.141757  4.468527e+08\n",
       "2006      7.593323  4.495252e+08\n",
       "2007      7.066650  4.521099e+08\n",
       "2008      6.892261  4.546547e+08\n",
       "2009      7.824932  4.570887e+08\n",
       "2010      7.963419  4.594669e+08\n",
       "2011      7.892899  4.617005e+08\n",
       "2012      7.903058  4.639746e+08\n",
       "2013      7.916960  4.662527e+08\n",
       "2014      7.709996  4.686364e+08\n",
       "2015      7.588368  4.710581e+08"
      ]
     },
     "execution_count": 4,
     "metadata": {},
     "output_type": "execute_result"
    }
   ],
   "source": [
    "unemployed_data.head()\n",
    "\n",
    "# Collect the mean unemployment rates for the world\n",
    "average_unemployment = unemployed_data.mean()\n",
    "average_gdp = gdp_data.mean()\n",
    "\n",
    "# Collect the years where data was collected\n",
    "years = average_unemployment.keys()\n",
    "years\n",
    "average_df = pd.DataFrame(average_unemployment)\n",
    "average_df.columns = [\"Unemployment\"]\n",
    "average_df[\"GDP\"] = average_gdp\n",
    "average_df"
   ]
  },
  {
   "cell_type": "markdown",
   "metadata": {},
   "source": [
    "# Plot the GDP vs. Unemployment graph\n",
    "\n",
    "* Plot a line for each country\n",
    "\n",
    "* Include a line for world average"
   ]
  },
  {
   "cell_type": "code",
   "execution_count": 5,
   "metadata": {},
   "outputs": [
    {
     "ename": "NameError",
     "evalue": "name 'usa' is not defined",
     "output_type": "error",
     "traceback": [
      "\u001b[1;31m---------------------------------------------------------------------------\u001b[0m",
      "\u001b[1;31mNameError\u001b[0m                                 Traceback (most recent call last)",
      "\u001b[1;32m<ipython-input-5-59f40c64c6f8>\u001b[0m in \u001b[0;36m<module>\u001b[1;34m\u001b[0m\n\u001b[0;32m      7\u001b[0m \u001b[1;33m\u001b[0m\u001b[0m\n\u001b[0;32m      8\u001b[0m \u001b[1;31m# Create a legend for our chart\u001b[0m\u001b[1;33m\u001b[0m\u001b[1;33m\u001b[0m\u001b[1;33m\u001b[0m\u001b[0m\n\u001b[1;32m----> 9\u001b[1;33m \u001b[0mplt\u001b[0m\u001b[1;33m.\u001b[0m\u001b[0mlegend\u001b[0m\u001b[1;33m(\u001b[0m\u001b[0mhandles\u001b[0m\u001b[1;33m=\u001b[0m\u001b[1;33m[\u001b[0m\u001b[0musa\u001b[0m\u001b[1;33m]\u001b[0m\u001b[1;33m,\u001b[0m \u001b[0mloc\u001b[0m\u001b[1;33m=\u001b[0m\u001b[1;34m\"best\"\u001b[0m\u001b[1;33m)\u001b[0m\u001b[1;33m\u001b[0m\u001b[1;33m\u001b[0m\u001b[0m\n\u001b[0m\u001b[0;32m     10\u001b[0m \u001b[1;33m\u001b[0m\u001b[0m\n\u001b[0;32m     11\u001b[0m \u001b[1;31m# Show the chart\u001b[0m\u001b[1;33m\u001b[0m\u001b[1;33m\u001b[0m\u001b[1;33m\u001b[0m\u001b[0m\n",
      "\u001b[1;31mNameError\u001b[0m: name 'usa' is not defined"
     ]
    },
    {
     "data": {
      "image/png": "[encoded data removed]",
      "text/plain": [
       "<Figure size 432x288 with 1 Axes>"
      ]
     },
     "metadata": {
      "needs_background": "light"
     },
     "output_type": "display_data"
    }
   ],
   "source": [
    "# Plot the average GDP vs. average unemployment\n",
    "\n",
    "# Plot the GDP vs. unemployment in USA\n",
    "USA, = plt.plot(gdp_data.loc['USA',['2005', '2006', '2007', '2008', '2009', '2010', '2011', '2012', '2013',\n",
    "       '2014', '2015']], unemployed_data.loc['USA',['2005', '2006', '2007', '2008', '2009', '2010', '2011', '2012', '2013',\n",
    "       '2014', '2015']], color=\"green\",label=unemployed_data.loc['USA',\"Country Name\"])\n",
    "\n",
    "# Create a legend for our chart\n",
    "plt.legend(handles=[usa], loc=\"best\")\n",
    "\n",
    "# Show the chart\n",
    "plt.show()\n",
    "\n",
    "\n",
    "China, = plt.plot(gdp_data.loc['CHN',['2005', '2006', '2007', '2008', '2009', '2010', '2011', '2012', '2013',\n",
    "       '2014', '2015']], unemployed_data.loc['CHN',['2005', '2006', '2007', '2008', '2009', '2010', '2011', '2012', '2013',\n",
    "       '2014', '2015']], color=\"red\",label=unemployed_data.loc['CHN',\"Country Name\"])\n",
    "\n",
    "# Create a legend for our chart\n",
    "plt.legend(handles=[China], loc=\"best\")\n",
    "\n",
    "\n",
    "# Show the chart\n",
    "plt.show()\n",
    "\n",
    "Japan, = plt.plot(gdp_data.loc['JPN',['2005', '2006', '2007', '2008', '2009', '2010', '2011', '2012', '2013',\n",
    "       '2014', '2015']], unemployed_data.loc['JPN',['2005', '2006', '2007', '2008', '2009', '2010', '2011', '2012', '2013',\n",
    "       '2014', '2015']], color=\"Blue\",label=unemployed_data.loc['JPN',\"Country Name\"])\n",
    "\n",
    "# Create a legend for our chart\n",
    "plt.legend(handles=[Japan], loc=\"best\")\n",
    "\n",
    "\n",
    "\n",
    "# Show the chart\n",
    "plt.show()\n",
    "\n",
    "\n",
    "# Plot the GDP vs. unemployment in USA\n",
    "England, = plt.plot(gdp_data.loc['GBR',['2005', '2006', '2007', '2008', '2009', '2010', '2011', '2012', '2013',\n",
    "       '2014', '2015']], unemployed_data.loc['GBR',['2005', '2006', '2007', '2008', '2009', '2010', '2011', '2012', '2013',\n",
    "       '2014', '2015']], color=\"green\",label=unemployed_data.loc['GBR',\"Country Name\"])\n",
    "\n",
    "# Create a legend for our chart\n",
    "plt.legend(handles=[England], loc=\"best\")\n",
    "\n",
    "# Show the chart\n",
    "plt.show()\n"
   ]
  },
  {
   "cell_type": "markdown",
   "metadata": {},
   "source": [
    "## Save the figure"
   ]
  },
  {
   "cell_type": "code",
   "execution_count": null,
   "metadata": {},
   "outputs": [],
   "source": []
  }
 ],
 "metadata": {
  "kernelspec": {
   "display_name": "Python 3",
   "language": "python",
   "name": "python3"
  },
  "language_info": {
   "codemirror_mode": {
    "name": "ipython",
    "version": 3
   },
   "file_extension": ".py",
   "mimetype": "text/x-python",
   "name": "python",
   "nbconvert_exporter": "python",
   "pygments_lexer": "ipython3",
   "version": "3.7.3"
  }
 },
 "nbformat": 4,
 "nbformat_minor": 2
}
