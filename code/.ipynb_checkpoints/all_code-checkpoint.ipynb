{
 "cells": [
  {
   "cell_type": "code",
   "execution_count": 1,
   "metadata": {},
   "outputs": [],
   "source": [
    "# Import Dependencies\n",
    "import numpy as np\n",
    "import matplotlib.pyplot as plt\n",
    "import pandas as pd\n",
    "from scipy.stats import linregress\n",
    "import datetime"
   ]
  },
  {
   "cell_type": "markdown",
   "metadata": {},
   "source": [
    "# Cleaning data"
   ]
  },
  {
   "cell_type": "markdown",
   "metadata": {},
   "source": [
    "## Clean forex data"
   ]
  },
  {
   "cell_type": "code",
   "execution_count": null,
   "metadata": {},
   "outputs": [
    {
     "name": "stderr",
     "output_type": "stream",
     "text": [
      "//anaconda3/lib/python3.7/site-packages/ipykernel_launcher.py:22: SettingWithCopyWarning: \n",
      "A value is trying to be set on a copy of a slice from a DataFrame\n",
      "\n",
      "See the caveats in the documentation: http://pandas.pydata.org/pandas-docs/stable/indexing.html#indexing-view-versus-copy\n"
     ]
    }
   ],
   "source": [
    "# csv directory\n",
    "file = '../data/forex_dta.csv'\n",
    "\n",
    "# read csv\n",
    "forex = pd.read_csv(file)\n",
    "\n",
    "# list of months\n",
    "months = [\"Jan\", \"Feb\", \"Mar\", \"Apr\", \"May\", \"June\", \"July\", \"August\", \"Sept\", \"Oct\", \"Nov\", \"Dec\"]\n",
    "\n",
    "# slice the \"Rate\" column and create new columns for the currency (three letter initials) \n",
    "# and current rate (with relation to EUR)\n",
    "forex[\"currency\"] = forex[\"Rate\"].str.slice(2, 5, 1) \n",
    "forex[\"rate\"] = forex[\"Rate\"].str.slice(8,-1, 1)\n",
    "\n",
    "# slice date and create columns for year and month\n",
    "forex[\"year\"] = forex[\"Date\"].str.slice(0, 4, 1) \n",
    "forex[\"month\"] = forex[\"Date\"].str.slice(5,7, 1)\n",
    "forex[\"month\"] = pd.to_numeric(forex[\"month\"])\n",
    "forex[\"month_str\"] = \"\"\n",
    "\n",
    "for i in range(480):\n",
    "    forex[\"month_str\"][i] = months[forex[\"month\"][i] - 1]\n",
    "\n",
    "# export to csv\n",
    "forex.to_csv(r'../data_cleaning/forex_data.csv')"
   ]
  },
  {
   "cell_type": "markdown",
   "metadata": {},
   "source": [
    "## Clean expenditures"
   ]
  },
  {
   "cell_type": "code",
   "execution_count": null,
   "metadata": {},
   "outputs": [],
   "source": [
    "file = \"../data_cleaning/travel_expenditures.csv\"\n",
    "\n",
    "df = pd.read_csv(file, header=None)\n",
    "df.dropna(axis=1)\n",
    "for x in range(120,132):\n",
    "    del df[x]\n",
    "df.head()"
   ]
  },
  {
   "cell_type": "code",
   "execution_count": null,
   "metadata": {},
   "outputs": [],
   "source": [
    "df = df.transpose()\n",
    "df.head()"
   ]
  },
  {
   "cell_type": "code",
   "execution_count": null,
   "metadata": {},
   "outputs": [],
   "source": [
    "df[\"Year\"] = pd.DatetimeIndex(df[0]).year\n",
    "df[\"Month\"] = pd.DatetimeIndex(df[0]).month\n",
    "df.columns = [\"Date\", \"Expenditures\", \"Year\", \"Month\"]\n",
    "df.head()"
   ]
  },
  {
   "cell_type": "code",
   "execution_count": null,
   "metadata": {},
   "outputs": [],
   "source": [
    "df.to_csv(\"../data_cleaning/cleaned_travel_expenditures.csv\")"
   ]
  },
  {
   "cell_type": "markdown",
   "metadata": {},
   "source": [
    "# Plots"
   ]
  },
  {
   "cell_type": "markdown",
   "metadata": {},
   "source": [
    "## Currency rates"
   ]
  },
  {
   "cell_type": "code",
   "execution_count": null,
   "metadata": {},
   "outputs": [],
   "source": [
    "# Load file for currency\n",
    "currency = pd.read_csv(\"../data_cleaning/forex_data.csv\")\n",
    "\n",
    "currency.head()"
   ]
  },
  {
   "cell_type": "code",
   "execution_count": null,
   "metadata": {},
   "outputs": [],
   "source": [
    "#rename Rate to country name and GDP\n",
    "del currency['Unnamed: 0.1']\n",
    "currency_2 = currency\n",
    "currency_2.head()"
   ]
  },
  {
   "cell_type": "code",
   "execution_count": null,
   "metadata": {},
   "outputs": [],
   "source": [
    "currency_3 = currency_2.pivot(index=\"Date\", columns=\"currency\")['rate']\n",
    "currency_3.head()\n",
    "\n",
    "currency_3.index = pd.to_datetime(currency_3.index)\n",
    "\n",
    "currency_3.index = currency_3.index.strftime('%Y-%m')\n",
    "\n",
    "currency_3.head()"
   ]
  },
  {
   "cell_type": "code",
   "execution_count": null,
   "metadata": {},
   "outputs": [],
   "source": [
    "from matplotlib.ticker import MaxNLocator\n",
    "locator=MaxNLocator(prune='both', nbins=30)"
   ]
  },
  {
   "cell_type": "code",
   "execution_count": null,
   "metadata": {},
   "outputs": [],
   "source": [
    "# Set parameters for plot for JPY\n",
    "plt.figure(figsize=(10,2))\n",
    "\n",
    "# Plot\n",
    "plt.plot(currency_3.index, currency_3[\"JPY\"], color=\"black\",markersize=1, linestyle=\"-\", linewidth=2.0)\n",
    "\n",
    "# Set title, x and y axises, and add grids and legends\n",
    "plt.title(\"Yen Over Time\")\n",
    "plt.ylabel(\"Rates\", fontsize = 14 )\n",
    "plt.yticks(fontsize = 12)\n",
    "plt.xlabel(\"Date\", fontsize = 16)\n",
    "plt.grid(axis='y')\n",
    "plt.xticks(rotation=45)\n",
    "plt.legend(['YEN'],loc=\"best\", fontsize=\"medium\", fancybox=True)\n",
    "ax = plt.gca()\n",
    "ax.xaxis.set_major_locator(locator)\n",
    "\n",
    "# Save plot\n",
    "plt.savefig(\"../graphs/yen.png\")\n",
    "\n",
    "# ax.set_xlim([])\n",
    "#ax.set_ylim([0,70])"
   ]
  },
  {
   "cell_type": "code",
   "execution_count": null,
   "metadata": {},
   "outputs": [],
   "source": [
    "# Do the same for USD\n",
    "plt.figure(figsize=(10, 2))\n",
    "plt.plot(currency_3.index, currency_3[\"USD\"], color=\"green\", markersize=1, linestyle=\"-\", linewidth=2.0)\n",
    "plt.title(\"USD Over Time\")\n",
    "plt.ylabel(\"Rates\", fontsize = 14)\n",
    "plt.yticks(fontsize = 12)\n",
    "plt.xlabel(\"Date\")\n",
    "plt.grid(axis='y')\n",
    "plt.xticks(rotation=45)\n",
    "plt.legend(['USD'],loc=\"best\", fontsize=\"medium\", fancybox=True)\n",
    "ax = plt.gca()\n",
    "ax.xaxis.set_major_locator(locator)\n",
    "plt.savefig(\"../graphs/usd.png\")"
   ]
  },
  {
   "cell_type": "code",
   "execution_count": null,
   "metadata": {},
   "outputs": [],
   "source": [
    "# Do the same for CNY\n",
    "plt.figure(figsize=(10, 2))\n",
    "plt.plot(currency_3.index, currency_3[\"CNY\"], color=\"red\", markersize=1, linestyle=\"-\", linewidth=2.0)\n",
    "plt.title(\"CNY Over Time\")\n",
    "plt.ylabel(\"Rates\", fontsize = 14)\n",
    "plt.yticks(fontsize = 12)\n",
    "plt.xlabel(\"Dates\")\n",
    "plt.grid(axis='y')\n",
    "plt.xticks(rotation=45)\n",
    "plt.legend(['CNY'],loc=\"best\", fontsize=\"medium\", fancybox=True)\n",
    "ax = plt.gca()\n",
    "ax.xaxis.set_major_locator(locator)\n",
    "plt.savefig(\"../graphs/cny.png\")"
   ]
  },
  {
   "cell_type": "code",
   "execution_count": null,
   "metadata": {},
   "outputs": [],
   "source": [
    "# Do the same for GBP\n",
    "plt.figure(figsize=(10, 2))\n",
    "plt.plot(currency_3.index, currency_3[\"GBP\"], color=\"blue\", markersize=1, linestyle=\"-\", linewidth=2.0)\n",
    "plt.title(\"Pound Over Time\")\n",
    "plt.ylabel(\"Rates\", fontsize = 14)\n",
    "plt.yticks(fontsize = 12)\n",
    "plt.xlabel(\"Date\")\n",
    "plt.grid(axis='y')\n",
    "plt.xticks(rotation=45)\n",
    "plt.legend(['GBP'],loc=\"best\", fontsize=\"medium\", fancybox=True)\n",
    "ax = plt.gca()\n",
    "ax.xaxis.set_major_locator(locator)\n",
    "plt.savefig(\"../graphs/gbp.png\")"
   ]
  },
  {
   "cell_type": "markdown",
   "metadata": {},
   "source": [
    "## Currency vs. Travel in and Travel out in the US"
   ]
  },
  {
   "cell_type": "code",
   "execution_count": null,
   "metadata": {},
   "outputs": [],
   "source": [
    "# Import currency and travel csv\n",
    "data_path = \"../data_cleaning/\"\n",
    "currency_data = pd.read_csv(data_path + \"forex_data.csv\")\n",
    "travel_data = pd.read_csv(data_path + \"cleaned_travel_expenditures.csv\")\n",
    "trip_data = pd.read_csv(data_path + \"trips.csv\")\n",
    "\n",
    "# Format date in yyyy-mm-dd\n",
    "travel_data[\"Date\"] = pd.to_datetime(travel_data[\"Date\"])\n",
    "currency_data[\"Date\"] = pd.to_datetime(currency_data[\"Date\"])\n",
    "trip_data[\"Date\"] = pd.to_datetime(trip_data[\"Date\"])\n",
    "\n",
    "travel_data = travel_data.drop([\"Unnamed: 0\"], axis=1)\n",
    "currency_data = currency_data.drop([\"Unnamed: 0\", \"Unnamed: 0.1\"], axis=1)\n",
    "# currency_data = currency_data.set_index(\"currency\")\n",
    "\n",
    "usa_currency = currency_data.loc[currency_data['currency'] == 'USD']\n",
    "\n",
    "combined_data = pd.merge(travel_data, usa_currency, on=[\"Date\"])\n",
    "combined_data = pd.merge(combined_data, trip_data, on=[\"Date\"])\n",
    "\n",
    "combined_data.head()"
   ]
  },
  {
   "cell_type": "code",
   "execution_count": null,
   "metadata": {},
   "outputs": [],
   "source": [
    "# Set x and y axises\n",
    "x_axis = combined_data[\"rate\"]\n",
    "departure = combined_data[\"outbound\"]\n",
    "departure = departure.str.replace(',', '')\n",
    "departure = departure.astype(float)\n",
    "\n",
    "# Plot scatter graph for currency rate vs. travel expenditure\n",
    "plt.scatter(x_axis, departure, edgecolor=\"black\")\n",
    "\n",
    "# Set plot title, x-axis and y-axis labels\n",
    "plt.title(\"Currency Rates vs. Traveling from the USA (Corr=0.02,p=0.84)\")\n",
    "plt.xlabel(\"Currency Rate (to EUR)\")\n",
    "plt.ylabel(\"Travel Outbound\")\n",
    "\n",
    "# Add grids\n",
    "plt.grid()\n",
    "\n",
    "# Save figure\n",
    "plt.savefig(\"../graphs/currency vs. travel outbound.png\")\n",
    "\n",
    "# Show the chart\n",
    "plt.show()"
   ]
  },
  {
   "cell_type": "code",
   "execution_count": null,
   "metadata": {},
   "outputs": [],
   "source": [
    "# Calculate the correlation between USD currency rate and travel outbound\n",
    "np.corrcoef(x_axis, departure)"
   ]
  },
  {
   "cell_type": "code",
   "execution_count": null,
   "metadata": {},
   "outputs": [],
   "source": [
    "# Regression: dependent variable is departure and independent variable is currency rate\n",
    "linregress(x_axis, departure)"
   ]
  },
  {
   "cell_type": "code",
   "execution_count": null,
   "metadata": {},
   "outputs": [],
   "source": [
    "# Set x and y axises\n",
    "arrival = combined_data[\"inbound\"]\n",
    "arrival = arrival.str.replace(',', '')\n",
    "arrival = arrival.astype(float)\n",
    "\n",
    "# Plot scatter graph for currency rate vs. travel expenditure\n",
    "plt.scatter(x_axis, arrival, edgecolor=\"black\", c= \"green\")\n",
    "\n",
    "# Set plot title, x-axis and y-axis labels\n",
    "plt.title(\"Currency Rates vs. Traveling to the USA (Corr=0.20, p<0.05)\")\n",
    "plt.xlabel(\"Currency Rate (to EUR)\")\n",
    "plt.ylabel(\"Travel Inbound\")\n",
    "\n",
    "# Add grids\n",
    "plt.grid()\n",
    "\n",
    "# Save figure\n",
    "plt.savefig(\"../graphs/currency vs. travel inbound.png\")\n",
    "\n",
    "# Show the chart\n",
    "plt.show()"
   ]
  },
  {
   "cell_type": "code",
   "execution_count": null,
   "metadata": {},
   "outputs": [],
   "source": [
    "# Calculate the correlation between USD currency rate and travel inbound\n",
    "np.corrcoef(x_axis, arrival)"
   ]
  },
  {
   "cell_type": "code",
   "execution_count": null,
   "metadata": {},
   "outputs": [],
   "source": [
    "# Regression: dependent variable is arrival and independent variable is currency rate\n",
    "linregress(x_axis, arrival)"
   ]
  },
  {
   "cell_type": "code",
   "execution_count": null,
   "metadata": {},
   "outputs": [],
   "source": [
    "# Find the slope and interception of the best fit line\n",
    "def best_fit(X, Y):\n",
    "\n",
    "    xbar = sum(X)/len(X)\n",
    "    ybar = sum(Y)/len(Y)\n",
    "    n = len(X) # or len(Y)\n",
    "\n",
    "    numer = sum([xi*yi for xi,yi in zip(X, Y)]) - n * xbar * ybar\n",
    "    denum = sum([xi**2 for xi in X]) - n * xbar**2\n",
    "\n",
    "    b = numer / denum\n",
    "    a = ybar - b * xbar\n",
    "\n",
    "    print('best fit line:\\ny = {:.2f} + {:.2f}x'.format(a, b))\n",
    "\n",
    "    return a, b\n",
    "\n",
    "# solution\n",
    "a, b = best_fit(x_axis, arrival)\n",
    "\n",
    "# plot points and fit line\n",
    "plt.scatter(x_axis, arrival)\n",
    "yfit = [a + b * xi for xi in x_axis.sort_values()]\n",
    "plt.plot(x_axis.sort_values(), yfit)"
   ]
  },
  {
   "cell_type": "markdown",
   "metadata": {},
   "source": []
  },
  {
   "cell_type": "code",
   "execution_count": null,
   "metadata": {},
   "outputs": [],
   "source": []
  }
 ],
 "metadata": {
  "kernelspec": {
   "display_name": "Python 3",
   "language": "python",
   "name": "python3"
  },
  "language_info": {
   "codemirror_mode": {
    "name": "ipython",
    "version": 3
   },
   "file_extension": ".py",
   "mimetype": "text/x-python",
   "name": "python",
   "nbconvert_exporter": "python",
   "pygments_lexer": "ipython3",
   "version": "3.7.3"
  }
 },
 "nbformat": 4,
 "nbformat_minor": 4
}
