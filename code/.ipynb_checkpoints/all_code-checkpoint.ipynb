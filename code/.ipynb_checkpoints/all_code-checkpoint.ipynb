{
 "cells": [
  {
   "cell_type": "code",
   "execution_count": 1,
   "metadata": {},
   "outputs": [],
   "source": [
    "# Import Dependencies\n",
    "import numpy as np\n",
    "import matplotlib.pyplot as plt\n",
    "import pandas as pd\n",
    "from scipy.stats import linregress\n",
    "import datetime\n",
    "import requests\n",
    "import re as re"
   ]
  },
  {
   "cell_type": "markdown",
   "metadata": {},
   "source": [
    "# Pull forex data from fixer.io API"
   ]
  },
  {
   "cell_type": "code",
   "execution_count": null,
   "metadata": {},
   "outputs": [],
   "source": [
    "# pull FOREX data from fixer site\n",
    "api_key = \"27279b812fe4f25f2c43584f1be9bdb9\"\n",
    "\n",
    "base = {\"Date\": [\"NA\"], \"Rate\": [\"NA\"]}\n",
    "df = pd.DataFrame(base)\n",
    "\n",
    "months = [\"01\", \"02\", \"03\", \"04\", \"05\", \"06\", \"07\", \"08\", \"09\", \"10\", \"11\", \"12\"]\n",
    "countries = [\"USD\", \"GBP\", \"JPY\", \"CNY\"]\n",
    "# countries = [\"XAU\"]\n",
    "\n",
    "for i in months:\n",
    "    for j in range(2005, 2015):\n",
    "        for c in countries:\n",
    "            url = f\"http://data.fixer.io/api/{j}-{i}-01?access_key={api_key}&base=EUR&symbols={c}\"\n",
    "\n",
    "            curr = requests.get(url)\n",
    "            curr_js = curr.json()\n",
    "\n",
    "            date = curr_js[\"date\"]\n",
    "        \n",
    "            rate = curr_js[\"rates\"]\n",
    "\n",
    "            d = {\"Date\": [date], \"Rate\": [rate]}\n",
    "            df2 = pd.DataFrame(d)\n",
    "        \n",
    "            df = df.append(df2)"
   ]
  },
  {
   "cell_type": "code",
   "execution_count": null,
   "metadata": {},
   "outputs": [],
   "source": [
    "# cleaner code\n",
    "df.reset_index(inplace = True, drop = True)\n",
    "df = df.drop([0])"
   ]
  },
  {
   "cell_type": "code",
   "execution_count": null,
   "metadata": {},
   "outputs": [],
   "source": [
    "# export intermedate file as checkpoint\n",
    "df.to_excel(\"../data/forex_dta.xlsx\")\n",
    "df = pd.read_excel(\"../data/forex_dta.xlsx\")"
   ]
  },
  {
   "cell_type": "code",
   "execution_count": null,
   "metadata": {},
   "outputs": [],
   "source": [
    "# pull the currency and rate information\n",
    "df['Currency'] = df['Rate'].str.extract('([A-Z][A-Z][A-Z])', expand=True)\n",
    "df['Rate_c'] = df['Rate'].str.extract('([0-9]+[.][0-9]+)', expand=True)"
   ]
  },
  {
   "cell_type": "code",
   "execution_count": null,
   "metadata": {},
   "outputs": [],
   "source": [
    "# keep desired columns and rename\n",
    "df = df.loc[:, [\"Date\", \"Currency\", \"Rate_c\"]]\n",
    "df.columns = [\"Date\", \"Currency\", \"Rate\"]\n",
    "df"
   ]
  },
  {
   "cell_type": "code",
   "execution_count": null,
   "metadata": {},
   "outputs": [],
   "source": [
    "# export file as xlsx to share with team\n",
    "df.to_excel(\"../data/forex_dta.xlsx\")"
   ]
  },
  {
   "cell_type": "markdown",
   "metadata": {},
   "source": [
    "# Cleaning data"
   ]
  },
  {
   "cell_type": "markdown",
   "metadata": {},
   "source": [
    "## Clean forex data"
   ]
  },
  {
   "cell_type": "code",
   "execution_count": 2,
   "metadata": {},
   "outputs": [
    {
     "name": "stderr",
     "output_type": "stream",
     "text": [
      "//anaconda3/lib/python3.7/site-packages/ipykernel_launcher.py:22: SettingWithCopyWarning: \n",
      "A value is trying to be set on a copy of a slice from a DataFrame\n",
      "\n",
      "See the caveats in the documentation: http://pandas.pydata.org/pandas-docs/stable/indexing.html#indexing-view-versus-copy\n"
     ]
    }
   ],
   "source": [
    "# csv directory\n",
    "file = '../data/forex_dta.csv'\n",
    "\n",
    "# read csv\n",
    "forex = pd.read_csv(file)\n",
    "\n",
    "# list of months\n",
    "months = [\"Jan\", \"Feb\", \"Mar\", \"Apr\", \"May\", \"June\", \"July\", \"August\", \"Sept\", \"Oct\", \"Nov\", \"Dec\"]\n",
    "\n",
    "# slice the \"Rate\" column and create new columns for the currency (three letter initials) \n",
    "# and current rate (with relation to EUR)\n",
    "forex[\"currency\"] = forex[\"Rate\"].str.slice(2, 5, 1) \n",
    "forex[\"rate\"] = forex[\"Rate\"].str.slice(8,-1, 1)\n",
    "\n",
    "# slice date and create columns for year and month\n",
    "forex[\"year\"] = forex[\"Date\"].str.slice(0, 4, 1) \n",
    "forex[\"month\"] = forex[\"Date\"].str.slice(5,7, 1)\n",
    "forex[\"month\"] = pd.to_numeric(forex[\"month\"])\n",
    "forex[\"month_str\"] = \"\"\n",
    "\n",
    "for i in range(480):\n",
    "    forex[\"month_str\"][i] = months[forex[\"month\"][i] - 1]\n",
    "\n",
    "# export to csv\n",
    "forex.to_csv(r'../data_cleaning/forex_data.csv')"
   ]
  },
  {
   "cell_type": "markdown",
   "metadata": {},
   "source": [
    "## Clean expenditures"
   ]
  },
  {
   "cell_type": "code",
   "execution_count": 3,
   "metadata": {},
   "outputs": [
    {
     "data": {
      "text/html": [
       "<div>\n",
       "<style scoped>\n",
       "    .dataframe tbody tr th:only-of-type {\n",
       "        vertical-align: middle;\n",
       "    }\n",
       "\n",
       "    .dataframe tbody tr th {\n",
       "        vertical-align: top;\n",
       "    }\n",
       "\n",
       "    .dataframe thead th {\n",
       "        text-align: right;\n",
       "    }\n",
       "</style>\n",
       "<table border=\"1\" class=\"dataframe\">\n",
       "  <thead>\n",
       "    <tr style=\"text-align: right;\">\n",
       "      <th></th>\n",
       "      <th>0</th>\n",
       "      <th>1</th>\n",
       "      <th>2</th>\n",
       "      <th>3</th>\n",
       "      <th>4</th>\n",
       "      <th>5</th>\n",
       "      <th>6</th>\n",
       "      <th>7</th>\n",
       "      <th>8</th>\n",
       "      <th>9</th>\n",
       "      <th>...</th>\n",
       "      <th>110</th>\n",
       "      <th>111</th>\n",
       "      <th>112</th>\n",
       "      <th>113</th>\n",
       "      <th>114</th>\n",
       "      <th>115</th>\n",
       "      <th>116</th>\n",
       "      <th>117</th>\n",
       "      <th>118</th>\n",
       "      <th>119</th>\n",
       "    </tr>\n",
       "  </thead>\n",
       "  <tbody>\n",
       "    <tr>\n",
       "      <th>0</th>\n",
       "      <td>1/1/2005</td>\n",
       "      <td>2/1/2005</td>\n",
       "      <td>3/1/2005</td>\n",
       "      <td>4/1/2005</td>\n",
       "      <td>5/1/2005</td>\n",
       "      <td>6/1/2005</td>\n",
       "      <td>7/1/2005</td>\n",
       "      <td>8/1/2005</td>\n",
       "      <td>9/1/2005</td>\n",
       "      <td>10/1/2005</td>\n",
       "      <td>...</td>\n",
       "      <td>3/1/2014</td>\n",
       "      <td>4/1/2014</td>\n",
       "      <td>5/1/2014</td>\n",
       "      <td>6/1/2014</td>\n",
       "      <td>7/1/2014</td>\n",
       "      <td>8/1/2014</td>\n",
       "      <td>9/1/2014</td>\n",
       "      <td>10/1/2014</td>\n",
       "      <td>11/1/2014</td>\n",
       "      <td>12/1/2014</td>\n",
       "    </tr>\n",
       "    <tr>\n",
       "      <th>1</th>\n",
       "      <td>$1,620.00</td>\n",
       "      <td>$1,768.00</td>\n",
       "      <td>$1,844.00</td>\n",
       "      <td>$1,987.00</td>\n",
       "      <td>$1,901.00</td>\n",
       "      <td>$1,816.00</td>\n",
       "      <td>$1,721.00</td>\n",
       "      <td>$1,697.00</td>\n",
       "      <td>$1,580.00</td>\n",
       "      <td>$1,640.00</td>\n",
       "      <td>...</td>\n",
       "      <td>$7,480.00</td>\n",
       "      <td>$7,692.00</td>\n",
       "      <td>$7,871.00</td>\n",
       "      <td>$7,826.00</td>\n",
       "      <td>$8,047.00</td>\n",
       "      <td>$8,142.00</td>\n",
       "      <td>$8,392.00</td>\n",
       "      <td>$8,234.00</td>\n",
       "      <td>$8,163.00</td>\n",
       "      <td>$8,197.00</td>\n",
       "    </tr>\n",
       "  </tbody>\n",
       "</table>\n",
       "<p>2 rows × 120 columns</p>\n",
       "</div>"
      ],
      "text/plain": [
       "          0           1           2           3           4           5    \\\n",
       "0    1/1/2005    2/1/2005    3/1/2005    4/1/2005    5/1/2005    6/1/2005   \n",
       "1  $1,620.00   $1,768.00   $1,844.00   $1,987.00   $1,901.00   $1,816.00    \n",
       "\n",
       "          6           7           8           9    ...         110  \\\n",
       "0    7/1/2005    8/1/2005    9/1/2005   10/1/2005  ...    3/1/2014   \n",
       "1  $1,721.00   $1,697.00   $1,580.00   $1,640.00   ...  $7,480.00    \n",
       "\n",
       "          111         112         113         114         115         116  \\\n",
       "0    4/1/2014    5/1/2014    6/1/2014    7/1/2014    8/1/2014    9/1/2014   \n",
       "1  $7,692.00   $7,871.00   $7,826.00   $8,047.00   $8,142.00   $8,392.00    \n",
       "\n",
       "          117         118         119  \n",
       "0   10/1/2014   11/1/2014   12/1/2014  \n",
       "1  $8,234.00   $8,163.00   $8,197.00   \n",
       "\n",
       "[2 rows x 120 columns]"
      ]
     },
     "execution_count": 3,
     "metadata": {},
     "output_type": "execute_result"
    }
   ],
   "source": [
    "file = \"../data_cleaning/travel_expenditures.csv\"\n",
    "\n",
    "df = pd.read_csv(file, header=None)\n",
    "df.dropna(axis=1)\n",
    "for x in range(120,132):\n",
    "    del df[x]\n",
    "df.head()"
   ]
  },
  {
   "cell_type": "code",
   "execution_count": 4,
   "metadata": {},
   "outputs": [
    {
     "data": {
      "text/html": [
       "<div>\n",
       "<style scoped>\n",
       "    .dataframe tbody tr th:only-of-type {\n",
       "        vertical-align: middle;\n",
       "    }\n",
       "\n",
       "    .dataframe tbody tr th {\n",
       "        vertical-align: top;\n",
       "    }\n",
       "\n",
       "    .dataframe thead th {\n",
       "        text-align: right;\n",
       "    }\n",
       "</style>\n",
       "<table border=\"1\" class=\"dataframe\">\n",
       "  <thead>\n",
       "    <tr style=\"text-align: right;\">\n",
       "      <th></th>\n",
       "      <th>0</th>\n",
       "      <th>1</th>\n",
       "    </tr>\n",
       "  </thead>\n",
       "  <tbody>\n",
       "    <tr>\n",
       "      <th>0</th>\n",
       "      <td>1/1/2005</td>\n",
       "      <td>$1,620.00</td>\n",
       "    </tr>\n",
       "    <tr>\n",
       "      <th>1</th>\n",
       "      <td>2/1/2005</td>\n",
       "      <td>$1,768.00</td>\n",
       "    </tr>\n",
       "    <tr>\n",
       "      <th>2</th>\n",
       "      <td>3/1/2005</td>\n",
       "      <td>$1,844.00</td>\n",
       "    </tr>\n",
       "    <tr>\n",
       "      <th>3</th>\n",
       "      <td>4/1/2005</td>\n",
       "      <td>$1,987.00</td>\n",
       "    </tr>\n",
       "    <tr>\n",
       "      <th>4</th>\n",
       "      <td>5/1/2005</td>\n",
       "      <td>$1,901.00</td>\n",
       "    </tr>\n",
       "  </tbody>\n",
       "</table>\n",
       "</div>"
      ],
      "text/plain": [
       "          0           1\n",
       "0  1/1/2005  $1,620.00 \n",
       "1  2/1/2005  $1,768.00 \n",
       "2  3/1/2005  $1,844.00 \n",
       "3  4/1/2005  $1,987.00 \n",
       "4  5/1/2005  $1,901.00 "
      ]
     },
     "execution_count": 4,
     "metadata": {},
     "output_type": "execute_result"
    }
   ],
   "source": [
    "df = df.transpose()\n",
    "df.head()"
   ]
  },
  {
   "cell_type": "code",
   "execution_count": 5,
   "metadata": {},
   "outputs": [
    {
     "data": {
      "text/html": [
       "<div>\n",
       "<style scoped>\n",
       "    .dataframe tbody tr th:only-of-type {\n",
       "        vertical-align: middle;\n",
       "    }\n",
       "\n",
       "    .dataframe tbody tr th {\n",
       "        vertical-align: top;\n",
       "    }\n",
       "\n",
       "    .dataframe thead th {\n",
       "        text-align: right;\n",
       "    }\n",
       "</style>\n",
       "<table border=\"1\" class=\"dataframe\">\n",
       "  <thead>\n",
       "    <tr style=\"text-align: right;\">\n",
       "      <th></th>\n",
       "      <th>Date</th>\n",
       "      <th>Expenditures</th>\n",
       "      <th>Year</th>\n",
       "      <th>Month</th>\n",
       "    </tr>\n",
       "  </thead>\n",
       "  <tbody>\n",
       "    <tr>\n",
       "      <th>0</th>\n",
       "      <td>1/1/2005</td>\n",
       "      <td>$1,620.00</td>\n",
       "      <td>2005</td>\n",
       "      <td>1</td>\n",
       "    </tr>\n",
       "    <tr>\n",
       "      <th>1</th>\n",
       "      <td>2/1/2005</td>\n",
       "      <td>$1,768.00</td>\n",
       "      <td>2005</td>\n",
       "      <td>2</td>\n",
       "    </tr>\n",
       "    <tr>\n",
       "      <th>2</th>\n",
       "      <td>3/1/2005</td>\n",
       "      <td>$1,844.00</td>\n",
       "      <td>2005</td>\n",
       "      <td>3</td>\n",
       "    </tr>\n",
       "    <tr>\n",
       "      <th>3</th>\n",
       "      <td>4/1/2005</td>\n",
       "      <td>$1,987.00</td>\n",
       "      <td>2005</td>\n",
       "      <td>4</td>\n",
       "    </tr>\n",
       "    <tr>\n",
       "      <th>4</th>\n",
       "      <td>5/1/2005</td>\n",
       "      <td>$1,901.00</td>\n",
       "      <td>2005</td>\n",
       "      <td>5</td>\n",
       "    </tr>\n",
       "  </tbody>\n",
       "</table>\n",
       "</div>"
      ],
      "text/plain": [
       "       Date Expenditures  Year  Month\n",
       "0  1/1/2005   $1,620.00   2005      1\n",
       "1  2/1/2005   $1,768.00   2005      2\n",
       "2  3/1/2005   $1,844.00   2005      3\n",
       "3  4/1/2005   $1,987.00   2005      4\n",
       "4  5/1/2005   $1,901.00   2005      5"
      ]
     },
     "execution_count": 5,
     "metadata": {},
     "output_type": "execute_result"
    }
   ],
   "source": [
    "df[\"Year\"] = pd.DatetimeIndex(df[0]).year\n",
    "df[\"Month\"] = pd.DatetimeIndex(df[0]).month\n",
    "df.columns = [\"Date\", \"Expenditures\", \"Year\", \"Month\"]\n",
    "df.head()"
   ]
  },
  {
   "cell_type": "code",
   "execution_count": 6,
   "metadata": {},
   "outputs": [],
   "source": [
    "df.to_csv(\"../data_cleaning/cleaned_travel_expenditures.csv\")"
   ]
  },
  {
   "cell_type": "markdown",
   "metadata": {},
   "source": [
    "# Plots"
   ]
  },
  {
   "cell_type": "markdown",
   "metadata": {},
   "source": [
    "## Currency rates"
   ]
  },
  {
   "cell_type": "code",
   "execution_count": 7,
   "metadata": {},
   "outputs": [
    {
     "data": {
      "text/html": [
       "<div>\n",
       "<style scoped>\n",
       "    .dataframe tbody tr th:only-of-type {\n",
       "        vertical-align: middle;\n",
       "    }\n",
       "\n",
       "    .dataframe tbody tr th {\n",
       "        vertical-align: top;\n",
       "    }\n",
       "\n",
       "    .dataframe thead th {\n",
       "        text-align: right;\n",
       "    }\n",
       "</style>\n",
       "<table border=\"1\" class=\"dataframe\">\n",
       "  <thead>\n",
       "    <tr style=\"text-align: right;\">\n",
       "      <th></th>\n",
       "      <th>Unnamed: 0</th>\n",
       "      <th>Unnamed: 0.1</th>\n",
       "      <th>Date</th>\n",
       "      <th>Rate</th>\n",
       "      <th>currency</th>\n",
       "      <th>rate</th>\n",
       "      <th>year</th>\n",
       "      <th>month</th>\n",
       "      <th>month_str</th>\n",
       "    </tr>\n",
       "  </thead>\n",
       "  <tbody>\n",
       "    <tr>\n",
       "      <th>0</th>\n",
       "      <td>0</td>\n",
       "      <td>1</td>\n",
       "      <td>2005-01-01</td>\n",
       "      <td>{'USD': 1.358363}</td>\n",
       "      <td>USD</td>\n",
       "      <td>1.358363</td>\n",
       "      <td>2005</td>\n",
       "      <td>1</td>\n",
       "      <td>Jan</td>\n",
       "    </tr>\n",
       "    <tr>\n",
       "      <th>1</th>\n",
       "      <td>1</td>\n",
       "      <td>2</td>\n",
       "      <td>2005-01-01</td>\n",
       "      <td>{'GBP': 0.705819}</td>\n",
       "      <td>GBP</td>\n",
       "      <td>0.705819</td>\n",
       "      <td>2005</td>\n",
       "      <td>1</td>\n",
       "      <td>Jan</td>\n",
       "    </tr>\n",
       "    <tr>\n",
       "      <th>2</th>\n",
       "      <td>2</td>\n",
       "      <td>3</td>\n",
       "      <td>2005-01-01</td>\n",
       "      <td>{'JPY': 139.436301}</td>\n",
       "      <td>JPY</td>\n",
       "      <td>139.436301</td>\n",
       "      <td>2005</td>\n",
       "      <td>1</td>\n",
       "      <td>Jan</td>\n",
       "    </tr>\n",
       "    <tr>\n",
       "      <th>3</th>\n",
       "      <td>3</td>\n",
       "      <td>4</td>\n",
       "      <td>2005-01-01</td>\n",
       "      <td>{'CNY': 11.23808}</td>\n",
       "      <td>CNY</td>\n",
       "      <td>11.238080</td>\n",
       "      <td>2005</td>\n",
       "      <td>1</td>\n",
       "      <td>Jan</td>\n",
       "    </tr>\n",
       "    <tr>\n",
       "      <th>4</th>\n",
       "      <td>4</td>\n",
       "      <td>5</td>\n",
       "      <td>2006-01-01</td>\n",
       "      <td>{'USD': 1.181562}</td>\n",
       "      <td>USD</td>\n",
       "      <td>1.181562</td>\n",
       "      <td>2006</td>\n",
       "      <td>1</td>\n",
       "      <td>Jan</td>\n",
       "    </tr>\n",
       "  </tbody>\n",
       "</table>\n",
       "</div>"
      ],
      "text/plain": [
       "   Unnamed: 0  Unnamed: 0.1        Date                 Rate currency  \\\n",
       "0           0             1  2005-01-01    {'USD': 1.358363}      USD   \n",
       "1           1             2  2005-01-01    {'GBP': 0.705819}      GBP   \n",
       "2           2             3  2005-01-01  {'JPY': 139.436301}      JPY   \n",
       "3           3             4  2005-01-01    {'CNY': 11.23808}      CNY   \n",
       "4           4             5  2006-01-01    {'USD': 1.181562}      USD   \n",
       "\n",
       "         rate  year  month month_str  \n",
       "0    1.358363  2005      1       Jan  \n",
       "1    0.705819  2005      1       Jan  \n",
       "2  139.436301  2005      1       Jan  \n",
       "3   11.238080  2005      1       Jan  \n",
       "4    1.181562  2006      1       Jan  "
      ]
     },
     "execution_count": 7,
     "metadata": {},
     "output_type": "execute_result"
    }
   ],
   "source": [
    "# Load file for currency\n",
    "currency = pd.read_csv(\"../data_cleaning/forex_data.csv\")\n",
    "\n",
    "currency.head()"
   ]
  },
  {
   "cell_type": "code",
   "execution_count": 8,
   "metadata": {},
   "outputs": [
    {
     "data": {
      "text/html": [
       "<div>\n",
       "<style scoped>\n",
       "    .dataframe tbody tr th:only-of-type {\n",
       "        vertical-align: middle;\n",
       "    }\n",
       "\n",
       "    .dataframe tbody tr th {\n",
       "        vertical-align: top;\n",
       "    }\n",
       "\n",
       "    .dataframe thead th {\n",
       "        text-align: right;\n",
       "    }\n",
       "</style>\n",
       "<table border=\"1\" class=\"dataframe\">\n",
       "  <thead>\n",
       "    <tr style=\"text-align: right;\">\n",
       "      <th></th>\n",
       "      <th>Unnamed: 0</th>\n",
       "      <th>Date</th>\n",
       "      <th>Rate</th>\n",
       "      <th>currency</th>\n",
       "      <th>rate</th>\n",
       "      <th>year</th>\n",
       "      <th>month</th>\n",
       "      <th>month_str</th>\n",
       "    </tr>\n",
       "  </thead>\n",
       "  <tbody>\n",
       "    <tr>\n",
       "      <th>0</th>\n",
       "      <td>0</td>\n",
       "      <td>2005-01-01</td>\n",
       "      <td>{'USD': 1.358363}</td>\n",
       "      <td>USD</td>\n",
       "      <td>1.358363</td>\n",
       "      <td>2005</td>\n",
       "      <td>1</td>\n",
       "      <td>Jan</td>\n",
       "    </tr>\n",
       "    <tr>\n",
       "      <th>1</th>\n",
       "      <td>1</td>\n",
       "      <td>2005-01-01</td>\n",
       "      <td>{'GBP': 0.705819}</td>\n",
       "      <td>GBP</td>\n",
       "      <td>0.705819</td>\n",
       "      <td>2005</td>\n",
       "      <td>1</td>\n",
       "      <td>Jan</td>\n",
       "    </tr>\n",
       "    <tr>\n",
       "      <th>2</th>\n",
       "      <td>2</td>\n",
       "      <td>2005-01-01</td>\n",
       "      <td>{'JPY': 139.436301}</td>\n",
       "      <td>JPY</td>\n",
       "      <td>139.436301</td>\n",
       "      <td>2005</td>\n",
       "      <td>1</td>\n",
       "      <td>Jan</td>\n",
       "    </tr>\n",
       "    <tr>\n",
       "      <th>3</th>\n",
       "      <td>3</td>\n",
       "      <td>2005-01-01</td>\n",
       "      <td>{'CNY': 11.23808}</td>\n",
       "      <td>CNY</td>\n",
       "      <td>11.238080</td>\n",
       "      <td>2005</td>\n",
       "      <td>1</td>\n",
       "      <td>Jan</td>\n",
       "    </tr>\n",
       "    <tr>\n",
       "      <th>4</th>\n",
       "      <td>4</td>\n",
       "      <td>2006-01-01</td>\n",
       "      <td>{'USD': 1.181562}</td>\n",
       "      <td>USD</td>\n",
       "      <td>1.181562</td>\n",
       "      <td>2006</td>\n",
       "      <td>1</td>\n",
       "      <td>Jan</td>\n",
       "    </tr>\n",
       "  </tbody>\n",
       "</table>\n",
       "</div>"
      ],
      "text/plain": [
       "   Unnamed: 0        Date                 Rate currency        rate  year  \\\n",
       "0           0  2005-01-01    {'USD': 1.358363}      USD    1.358363  2005   \n",
       "1           1  2005-01-01    {'GBP': 0.705819}      GBP    0.705819  2005   \n",
       "2           2  2005-01-01  {'JPY': 139.436301}      JPY  139.436301  2005   \n",
       "3           3  2005-01-01    {'CNY': 11.23808}      CNY   11.238080  2005   \n",
       "4           4  2006-01-01    {'USD': 1.181562}      USD    1.181562  2006   \n",
       "\n",
       "   month month_str  \n",
       "0      1       Jan  \n",
       "1      1       Jan  \n",
       "2      1       Jan  \n",
       "3      1       Jan  \n",
       "4      1       Jan  "
      ]
     },
     "execution_count": 8,
     "metadata": {},
     "output_type": "execute_result"
    }
   ],
   "source": [
    "#rename Rate to country name and GDP\n",
    "del currency['Unnamed: 0.1']\n",
    "currency_2 = currency\n",
    "currency_2.head()"
   ]
  },
  {
   "cell_type": "code",
   "execution_count": 9,
   "metadata": {},
   "outputs": [
    {
     "data": {
      "text/html": [
       "<div>\n",
       "<style scoped>\n",
       "    .dataframe tbody tr th:only-of-type {\n",
       "        vertical-align: middle;\n",
       "    }\n",
       "\n",
       "    .dataframe tbody tr th {\n",
       "        vertical-align: top;\n",
       "    }\n",
       "\n",
       "    .dataframe thead th {\n",
       "        text-align: right;\n",
       "    }\n",
       "</style>\n",
       "<table border=\"1\" class=\"dataframe\">\n",
       "  <thead>\n",
       "    <tr style=\"text-align: right;\">\n",
       "      <th>currency</th>\n",
       "      <th>CNY</th>\n",
       "      <th>GBP</th>\n",
       "      <th>JPY</th>\n",
       "      <th>USD</th>\n",
       "    </tr>\n",
       "  </thead>\n",
       "  <tbody>\n",
       "    <tr>\n",
       "      <th>2005-01</th>\n",
       "      <td>11.238080</td>\n",
       "      <td>0.705819</td>\n",
       "      <td>139.436301</td>\n",
       "      <td>1.358363</td>\n",
       "    </tr>\n",
       "    <tr>\n",
       "      <th>2005-02</th>\n",
       "      <td>10.787422</td>\n",
       "      <td>0.692797</td>\n",
       "      <td>135.229122</td>\n",
       "      <td>1.303526</td>\n",
       "    </tr>\n",
       "    <tr>\n",
       "      <th>2005-03</th>\n",
       "      <td>10.916589</td>\n",
       "      <td>0.686801</td>\n",
       "      <td>137.639276</td>\n",
       "      <td>1.319134</td>\n",
       "    </tr>\n",
       "    <tr>\n",
       "      <th>2005-04</th>\n",
       "      <td>10.684624</td>\n",
       "      <td>0.685725</td>\n",
       "      <td>138.769570</td>\n",
       "      <td>1.291129</td>\n",
       "    </tr>\n",
       "    <tr>\n",
       "      <th>2005-05</th>\n",
       "      <td>10.680720</td>\n",
       "      <td>0.676088</td>\n",
       "      <td>135.535610</td>\n",
       "      <td>1.291002</td>\n",
       "    </tr>\n",
       "  </tbody>\n",
       "</table>\n",
       "</div>"
      ],
      "text/plain": [
       "currency        CNY       GBP         JPY       USD\n",
       "2005-01   11.238080  0.705819  139.436301  1.358363\n",
       "2005-02   10.787422  0.692797  135.229122  1.303526\n",
       "2005-03   10.916589  0.686801  137.639276  1.319134\n",
       "2005-04   10.684624  0.685725  138.769570  1.291129\n",
       "2005-05   10.680720  0.676088  135.535610  1.291002"
      ]
     },
     "execution_count": 9,
     "metadata": {},
     "output_type": "execute_result"
    }
   ],
   "source": [
    "currency_3 = currency_2.pivot(index=\"Date\", columns=\"currency\")['rate']\n",
    "currency_3.head()\n",
    "\n",
    "currency_3.index = pd.to_datetime(currency_3.index)\n",
    "\n",
    "currency_3.index = currency_3.index.strftime('%Y-%m')\n",
    "\n",
    "currency_3.head()"
   ]
  },
  {
   "cell_type": "code",
   "execution_count": 10,
   "metadata": {},
   "outputs": [],
   "source": [
    "from matplotlib.ticker import MaxNLocator\n",
    "locator=MaxNLocator(prune='both', nbins=30)"
   ]
  },
  {
   "cell_type": "code",
   "execution_count": 11,
   "metadata": {},
   "outputs": [
    {
     "data": {
      "image/png": "[encoded data removed]",
      "text/plain": [
       "<Figure size 720x144 with 1 Axes>"
      ]
     },
     "metadata": {
      "needs_background": "light"
     },
     "output_type": "display_data"
    }
   ],
   "source": [
    "# Set parameters for plot for JPY\n",
    "plt.figure(figsize=(10,2))\n",
    "\n",
    "# Plot\n",
    "plt.plot(currency_3.index, currency_3[\"JPY\"], color=\"black\",markersize=1, linestyle=\"-\", linewidth=2.0)\n",
    "\n",
    "# Set title, x and y axises, and add grids and legends\n",
    "plt.title(\"Yen Over Time\")\n",
    "plt.ylabel(\"Rates\", fontsize = 14 )\n",
    "plt.yticks(fontsize = 12)\n",
    "plt.xlabel(\"Date\", fontsize = 16)\n",
    "plt.grid(axis='y')\n",
    "plt.xticks(rotation=45)\n",
    "plt.legend(['YEN'],loc=\"best\", fontsize=\"medium\", fancybox=True)\n",
    "ax = plt.gca()\n",
    "ax.xaxis.set_major_locator(locator)\n",
    "\n",
    "# Save plot\n",
    "plt.savefig(\"../graphs/yen.png\")\n",
    "\n",
    "# ax.set_xlim([])\n",
    "#ax.set_ylim([0,70])"
   ]
  },
  {
   "cell_type": "code",
   "execution_count": 12,
   "metadata": {},
   "outputs": [
    {
     "data": {
      "image/png": "[encoded data removed]",
      "text/plain": [
       "<Figure size 720x144 with 1 Axes>"
      ]
     },
     "metadata": {
      "needs_background": "light"
     },
     "output_type": "display_data"
    }
   ],
   "source": [
    "# Do the same for USD\n",
    "plt.figure(figsize=(10, 2))\n",
    "plt.plot(currency_3.index, currency_3[\"USD\"], color=\"green\", markersize=1, linestyle=\"-\", linewidth=2.0)\n",
    "plt.title(\"USD Over Time\")\n",
    "plt.ylabel(\"Rates\", fontsize = 14)\n",
    "plt.yticks(fontsize = 12)\n",
    "plt.xlabel(\"Date\")\n",
    "plt.grid(axis='y')\n",
    "plt.xticks(rotation=45)\n",
    "plt.legend(['USD'],loc=\"best\", fontsize=\"medium\", fancybox=True)\n",
    "ax = plt.gca()\n",
    "ax.xaxis.set_major_locator(locator)\n",
    "plt.savefig(\"../graphs/usd.png\")"
   ]
  },
  {
   "cell_type": "code",
   "execution_count": 13,
   "metadata": {},
   "outputs": [
    {
     "data": {
      "image/png": "[encoded data removed]",
      "text/plain": [
       "<Figure size 720x144 with 1 Axes>"
      ]
     },
     "metadata": {
      "needs_background": "light"
     },
     "output_type": "display_data"
    }
   ],
   "source": [
    "# Do the same for CNY\n",
    "plt.figure(figsize=(10, 2))\n",
    "plt.plot(currency_3.index, currency_3[\"CNY\"], color=\"red\", markersize=1, linestyle=\"-\", linewidth=2.0)\n",
    "plt.title(\"CNY Over Time\")\n",
    "plt.ylabel(\"Rates\", fontsize = 14)\n",
    "plt.yticks(fontsize = 12)\n",
    "plt.xlabel(\"Dates\")\n",
    "plt.grid(axis='y')\n",
    "plt.xticks(rotation=45)\n",
    "plt.legend(['CNY'],loc=\"best\", fontsize=\"medium\", fancybox=True)\n",
    "ax = plt.gca()\n",
    "ax.xaxis.set_major_locator(locator)\n",
    "plt.savefig(\"../graphs/cny.png\")"
   ]
  },
  {
   "cell_type": "code",
   "execution_count": 14,
   "metadata": {},
   "outputs": [
    {
     "data": {
      "image/png": "[encoded data removed]",
      "text/plain": [
       "<Figure size 720x144 with 1 Axes>"
      ]
     },
     "metadata": {
      "needs_background": "light"
     },
     "output_type": "display_data"
    }
   ],
   "source": [
    "# Do the same for GBP\n",
    "plt.figure(figsize=(10, 2))\n",
    "plt.plot(currency_3.index, currency_3[\"GBP\"], color=\"blue\", markersize=1, linestyle=\"-\", linewidth=2.0)\n",
    "plt.title(\"Pound Over Time\")\n",
    "plt.ylabel(\"Rates\", fontsize = 14)\n",
    "plt.yticks(fontsize = 12)\n",
    "plt.xlabel(\"Date\")\n",
    "plt.grid(axis='y')\n",
    "plt.xticks(rotation=45)\n",
    "plt.legend(['GBP'],loc=\"best\", fontsize=\"medium\", fancybox=True)\n",
    "ax = plt.gca()\n",
    "ax.xaxis.set_major_locator(locator)\n",
    "plt.savefig(\"../graphs/gbp.png\")"
   ]
  },
  {
   "cell_type": "markdown",
   "metadata": {},
   "source": [
    "## Currency vs. Travel in and Travel out in the US"
   ]
  },
  {
   "cell_type": "code",
   "execution_count": 15,
   "metadata": {},
   "outputs": [
    {
     "data": {
      "text/html": [
       "<div>\n",
       "<style scoped>\n",
       "    .dataframe tbody tr th:only-of-type {\n",
       "        vertical-align: middle;\n",
       "    }\n",
       "\n",
       "    .dataframe tbody tr th {\n",
       "        vertical-align: top;\n",
       "    }\n",
       "\n",
       "    .dataframe thead th {\n",
       "        text-align: right;\n",
       "    }\n",
       "</style>\n",
       "<table border=\"1\" class=\"dataframe\">\n",
       "  <thead>\n",
       "    <tr style=\"text-align: right;\">\n",
       "      <th></th>\n",
       "      <th>Date</th>\n",
       "      <th>Expenditures</th>\n",
       "      <th>Year_x</th>\n",
       "      <th>Month_x</th>\n",
       "      <th>Rate</th>\n",
       "      <th>currency</th>\n",
       "      <th>rate</th>\n",
       "      <th>year</th>\n",
       "      <th>month</th>\n",
       "      <th>month_str</th>\n",
       "      <th>Year_y</th>\n",
       "      <th>Month_y</th>\n",
       "      <th>outbound</th>\n",
       "      <th>inbound</th>\n",
       "    </tr>\n",
       "  </thead>\n",
       "  <tbody>\n",
       "    <tr>\n",
       "      <th>0</th>\n",
       "      <td>2005-01-01</td>\n",
       "      <td>$1,620.00</td>\n",
       "      <td>2005</td>\n",
       "      <td>1</td>\n",
       "      <td>{'USD': 1.358363}</td>\n",
       "      <td>USD</td>\n",
       "      <td>1.358363</td>\n",
       "      <td>2005</td>\n",
       "      <td>1</td>\n",
       "      <td>Jan</td>\n",
       "      <td>2005</td>\n",
       "      <td>1</td>\n",
       "      <td>748,042</td>\n",
       "      <td>599,534</td>\n",
       "    </tr>\n",
       "    <tr>\n",
       "      <th>1</th>\n",
       "      <td>2005-02-01</td>\n",
       "      <td>$1,768.00</td>\n",
       "      <td>2005</td>\n",
       "      <td>2</td>\n",
       "      <td>{'USD': 1.303526}</td>\n",
       "      <td>USD</td>\n",
       "      <td>1.303526</td>\n",
       "      <td>2005</td>\n",
       "      <td>2</td>\n",
       "      <td>Feb</td>\n",
       "      <td>2005</td>\n",
       "      <td>2</td>\n",
       "      <td>649,274</td>\n",
       "      <td>705,107</td>\n",
       "    </tr>\n",
       "    <tr>\n",
       "      <th>2</th>\n",
       "      <td>2005-03-01</td>\n",
       "      <td>$1,844.00</td>\n",
       "      <td>2005</td>\n",
       "      <td>3</td>\n",
       "      <td>{'USD': 1.319134}</td>\n",
       "      <td>USD</td>\n",
       "      <td>1.319134</td>\n",
       "      <td>2005</td>\n",
       "      <td>3</td>\n",
       "      <td>Mar</td>\n",
       "      <td>2005</td>\n",
       "      <td>3</td>\n",
       "      <td>992,917</td>\n",
       "      <td>927,050</td>\n",
       "    </tr>\n",
       "    <tr>\n",
       "      <th>3</th>\n",
       "      <td>2005-04-01</td>\n",
       "      <td>$1,987.00</td>\n",
       "      <td>2005</td>\n",
       "      <td>4</td>\n",
       "      <td>{'USD': 1.291129}</td>\n",
       "      <td>USD</td>\n",
       "      <td>1.291129</td>\n",
       "      <td>2005</td>\n",
       "      <td>4</td>\n",
       "      <td>Apr</td>\n",
       "      <td>2005</td>\n",
       "      <td>4</td>\n",
       "      <td>944,616</td>\n",
       "      <td>898,956</td>\n",
       "    </tr>\n",
       "    <tr>\n",
       "      <th>4</th>\n",
       "      <td>2005-05-01</td>\n",
       "      <td>$1,901.00</td>\n",
       "      <td>2005</td>\n",
       "      <td>5</td>\n",
       "      <td>{'USD': 1.291002}</td>\n",
       "      <td>USD</td>\n",
       "      <td>1.291002</td>\n",
       "      <td>2005</td>\n",
       "      <td>5</td>\n",
       "      <td>May</td>\n",
       "      <td>2005</td>\n",
       "      <td>5</td>\n",
       "      <td>1,280,025</td>\n",
       "      <td>851,838</td>\n",
       "    </tr>\n",
       "  </tbody>\n",
       "</table>\n",
       "</div>"
      ],
      "text/plain": [
       "        Date Expenditures  Year_x  Month_x               Rate currency  \\\n",
       "0 2005-01-01   $1,620.00     2005        1  {'USD': 1.358363}      USD   \n",
       "1 2005-02-01   $1,768.00     2005        2  {'USD': 1.303526}      USD   \n",
       "2 2005-03-01   $1,844.00     2005        3  {'USD': 1.319134}      USD   \n",
       "3 2005-04-01   $1,987.00     2005        4  {'USD': 1.291129}      USD   \n",
       "4 2005-05-01   $1,901.00     2005        5  {'USD': 1.291002}      USD   \n",
       "\n",
       "       rate  year  month month_str  Year_y  Month_y   outbound  inbound  \n",
       "0  1.358363  2005      1       Jan    2005        1    748,042  599,534  \n",
       "1  1.303526  2005      2       Feb    2005        2    649,274  705,107  \n",
       "2  1.319134  2005      3       Mar    2005        3    992,917  927,050  \n",
       "3  1.291129  2005      4       Apr    2005        4    944,616  898,956  \n",
       "4  1.291002  2005      5       May    2005        5  1,280,025  851,838  "
      ]
     },
     "execution_count": 15,
     "metadata": {},
     "output_type": "execute_result"
    }
   ],
   "source": [
    "# Import currency and travel csv\n",
    "data_path = \"../data_cleaning/\"\n",
    "currency_data = pd.read_csv(data_path + \"forex_data.csv\")\n",
    "travel_data = pd.read_csv(data_path + \"cleaned_travel_expenditures.csv\")\n",
    "trip_data = pd.read_csv(data_path + \"trips.csv\")\n",
    "\n",
    "# Format date in yyyy-mm-dd\n",
    "travel_data[\"Date\"] = pd.to_datetime(travel_data[\"Date\"])\n",
    "currency_data[\"Date\"] = pd.to_datetime(currency_data[\"Date\"])\n",
    "trip_data[\"Date\"] = pd.to_datetime(trip_data[\"Date\"])\n",
    "\n",
    "travel_data = travel_data.drop([\"Unnamed: 0\"], axis=1)\n",
    "currency_data = currency_data.drop([\"Unnamed: 0\", \"Unnamed: 0.1\"], axis=1)\n",
    "# currency_data = currency_data.set_index(\"currency\")\n",
    "\n",
    "usa_currency = currency_data.loc[currency_data['currency'] == 'USD']\n",
    "\n",
    "combined_data = pd.merge(travel_data, usa_currency, on=[\"Date\"])\n",
    "combined_data = pd.merge(combined_data, trip_data, on=[\"Date\"])\n",
    "\n",
    "combined_data.head()"
   ]
  },
  {
   "cell_type": "code",
   "execution_count": 16,
   "metadata": {},
   "outputs": [
    {
     "data": {
      "image/png": "[encoded data removed]",
      "text/plain": [
       "<Figure size 432x288 with 1 Axes>"
      ]
     },
     "metadata": {
      "needs_background": "light"
     },
     "output_type": "display_data"
    }
   ],
   "source": [
    "# Set x and y axises\n",
    "x_axis = combined_data[\"rate\"]\n",
    "departure = combined_data[\"outbound\"]\n",
    "departure = departure.str.replace(',', '')\n",
    "departure = departure.astype(float)\n",
    "\n",
    "# Plot scatter graph for currency rate vs. travel expenditure\n",
    "plt.scatter(x_axis, departure, edgecolor=\"black\")\n",
    "\n",
    "# Set plot title, x-axis and y-axis labels\n",
    "plt.title(\"Currency Rates vs. Traveling from the USA (Corr=0.02,p=0.84)\")\n",
    "plt.xlabel(\"Currency Rate (to EUR)\")\n",
    "plt.ylabel(\"Travel Outbound\")\n",
    "\n",
    "# Add grids\n",
    "plt.grid()\n",
    "\n",
    "# Save figure\n",
    "plt.savefig(\"../graphs/currency vs. travel outbound.png\")\n",
    "\n",
    "# Show the chart\n",
    "plt.show()"
   ]
  },
  {
   "cell_type": "code",
   "execution_count": 17,
   "metadata": {},
   "outputs": [
    {
     "data": {
      "text/plain": [
       "array([[1.        , 0.01860821],\n",
       "       [0.01860821, 1.        ]])"
      ]
     },
     "execution_count": 17,
     "metadata": {},
     "output_type": "execute_result"
    }
   ],
   "source": [
    "# Calculate the correlation between USD currency rate and travel outbound\n",
    "np.corrcoef(x_axis, departure)"
   ]
  },
  {
   "cell_type": "code",
   "execution_count": 18,
   "metadata": {},
   "outputs": [
    {
     "data": {
      "text/plain": [
       "LinregressResult(slope=62844.66220439771, intercept=910639.0495702054, rvalue=0.01860820576593684, pvalue=0.840130518000313, stderr=310847.7221152138)"
      ]
     },
     "execution_count": 18,
     "metadata": {},
     "output_type": "execute_result"
    }
   ],
   "source": [
    "# Regression: dependent variable is departure and independent variable is currency rate\n",
    "linregress(x_axis, departure)"
   ]
  },
  {
   "cell_type": "code",
   "execution_count": 19,
   "metadata": {},
   "outputs": [
    {
     "data": {
      "image/png": "[encoded data removed]",
      "text/plain": [
       "<Figure size 432x288 with 1 Axes>"
      ]
     },
     "metadata": {
      "needs_background": "light"
     },
     "output_type": "display_data"
    }
   ],
   "source": [
    "# Set x and y axises\n",
    "arrival = combined_data[\"inbound\"]\n",
    "arrival = arrival.str.replace(',', '')\n",
    "arrival = arrival.astype(float)\n",
    "\n",
    "# Plot scatter graph for currency rate vs. travel expenditure\n",
    "plt.scatter(x_axis, arrival, edgecolor=\"black\", c= \"green\")\n",
    "\n",
    "# Set plot title, x-axis and y-axis labels\n",
    "plt.title(\"Currency Rates vs. Traveling to the USA (Corr=0.20, p<0.05)\")\n",
    "plt.xlabel(\"Currency Rate (to EUR)\")\n",
    "plt.ylabel(\"Travel Inbound\")\n",
    "\n",
    "# Add grids\n",
    "plt.grid()\n",
    "\n",
    "# Save figure\n",
    "plt.savefig(\"../graphs/currency vs. travel inbound.png\")\n",
    "\n",
    "# Show the chart\n",
    "plt.show()"
   ]
  },
  {
   "cell_type": "code",
   "execution_count": 20,
   "metadata": {},
   "outputs": [
    {
     "data": {
      "text/plain": [
       "array([[1.        , 0.19802362],\n",
       "       [0.19802362, 1.        ]])"
      ]
     },
     "execution_count": 20,
     "metadata": {},
     "output_type": "execute_result"
    }
   ],
   "source": [
    "# Calculate the correlation between USD currency rate and travel inbound\n",
    "np.corrcoef(x_axis, arrival)"
   ]
  },
  {
   "cell_type": "code",
   "execution_count": 21,
   "metadata": {},
   "outputs": [
    {
     "data": {
      "text/plain": [
       "LinregressResult(slope=499962.94969207444, intercept=342427.95819596807, rvalue=0.1980236226187045, pvalue=0.030154704405696425, stderr=227820.75965593825)"
      ]
     },
     "execution_count": 21,
     "metadata": {},
     "output_type": "execute_result"
    }
   ],
   "source": [
    "# Regression: dependent variable is arrival and independent variable is currency rate\n",
    "linregress(x_axis, arrival)"
   ]
  },
  {
   "cell_type": "code",
   "execution_count": 22,
   "metadata": {},
   "outputs": [
    {
     "name": "stdout",
     "output_type": "stream",
     "text": [
      "best fit line:\n",
      "y = 342427.96 + 499962.95x\n"
     ]
    },
    {
     "data": {
      "text/plain": [
       "[<matplotlib.lines.Line2D at 0x1a1f5faac8>]"
      ]
     },
     "execution_count": 22,
     "metadata": {},
     "output_type": "execute_result"
    },
    {
     "data": {
      "image/png": "[encoded data removed]",
      "text/plain": [
       "<Figure size 432x288 with 1 Axes>"
      ]
     },
     "metadata": {
      "needs_background": "light"
     },
     "output_type": "display_data"
    }
   ],
   "source": [
    "# Find the slope and interception of the best fit line\n",
    "def best_fit(X, Y):\n",
    "\n",
    "    xbar = sum(X)/len(X)\n",
    "    ybar = sum(Y)/len(Y)\n",
    "    n = len(X) # or len(Y)\n",
    "\n",
    "    numer = sum([xi*yi for xi,yi in zip(X, Y)]) - n * xbar * ybar\n",
    "    denum = sum([xi**2 for xi in X]) - n * xbar**2\n",
    "\n",
    "    b = numer / denum\n",
    "    a = ybar - b * xbar\n",
    "\n",
    "    print('best fit line:\\ny = {:.2f} + {:.2f}x'.format(a, b))\n",
    "\n",
    "    return a, b\n",
    "\n",
    "# solution\n",
    "a, b = best_fit(x_axis, arrival)\n",
    "\n",
    "# plot points and fit line\n",
    "plt.scatter(x_axis, arrival)\n",
    "yfit = [a + b * xi for xi in x_axis.sort_values()]\n",
    "plt.plot(x_axis.sort_values(), yfit)"
   ]
  },
  {
   "cell_type": "markdown",
   "metadata": {},
   "source": []
  },
  {
   "cell_type": "code",
   "execution_count": null,
   "metadata": {},
   "outputs": [],
   "source": []
  }
 ],
 "metadata": {
  "kernelspec": {
   "display_name": "Python 3",
   "language": "python",
   "name": "python3"
  },
  "language_info": {
   "codemirror_mode": {
    "name": "ipython",
    "version": 3
   },
   "file_extension": ".py",
   "mimetype": "text/x-python",
   "name": "python",
   "nbconvert_exporter": "python",
   "pygments_lexer": "ipython3",
   "version": "3.7.3"
  }
 },
 "nbformat": 4,
 "nbformat_minor": 4
}
