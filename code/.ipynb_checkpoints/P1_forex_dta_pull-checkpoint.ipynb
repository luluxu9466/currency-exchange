{
 "cells": [
  {
   "cell_type": "code",
   "execution_count": null,
   "metadata": {},
   "outputs": [],
   "source": [
    "# set dependencies\n",
    "import pandas as pd\n",
    "import numpy as np\n",
    "import matplotlib as plt\n",
    "import requests\n",
    "import re as re\n"
   ]
  },
  {
   "cell_type": "code",
   "execution_count": null,
   "metadata": {},
   "outputs": [],
   "source": [
    "# pull FOREX data from fixer site\n",
    "api_key = \"27279b812fe4f25f2c43584f1be9bdb9\"\n",
    "\n",
    "base = {\"Date\": [\"NA\"], \"Rate\": [\"NA\"]}\n",
    "df = pd.DataFrame(base)\n",
    "\n",
    "months = [\"01\", \"02\", \"03\", \"04\", \"05\", \"06\", \"07\", \"08\", \"09\", \"10\", \"11\", \"12\"]\n",
    "countries = [\"USD\", \"GBP\", \"JPY\", \"CNY\"]\n",
    "# countries = [\"XAU\"]\n",
    "\n",
    "for i in months:\n",
    "    for j in range(2005, 2015):\n",
    "        for c in countries:\n",
    "            url = f\"http://data.fixer.io/api/{j}-{i}-01?access_key={api_key}&base=EUR&symbols={c}\"\n",
    "\n",
    "            curr = requests.get(url)\n",
    "            curr_js = curr.json()\n",
    "\n",
    "            date = curr_js[\"date\"]\n",
    "        \n",
    "            rate = curr_js[\"rates\"]\n",
    "\n",
    "            d = {\"Date\": [date], \"Rate\": [rate]}\n",
    "            df2 = pd.DataFrame(d)\n",
    "        \n",
    "            df = df.append(df2)"
   ]
  },
  {
   "cell_type": "code",
   "execution_count": null,
   "metadata": {},
   "outputs": [],
   "source": [
    "# cleaner code\n",
    "df.reset_index(inplace = True, drop = True)\n",
    "df = df.drop([0])"
   ]
  },
  {
   "cell_type": "code",
   "execution_count": null,
   "metadata": {},
   "outputs": [],
   "source": [
    "# export intermedate file as checkpoint\n",
    "df.to_excel(\"D:/Git/MChinchilla_GW_HW/07_Project_01/forex_dta.xlsx\")\n",
    "df = pd.read_excel(\"D:/Git/MChinchilla_GW_HW/07_Project_01/forex_dta.xlsx\")"
   ]
  },
  {
   "cell_type": "code",
   "execution_count": null,
   "metadata": {},
   "outputs": [],
   "source": [
    "# pull the currency and rate information\n",
    "df['Currency'] = df['Rate'].str.extract('([A-Z][A-Z][A-Z])', expand=True)\n",
    "df['Rate_c'] = df['Rate'].str.extract('([0-9]+[.][0-9]+)', expand=True)"
   ]
  },
  {
   "cell_type": "code",
   "execution_count": null,
   "metadata": {},
   "outputs": [],
   "source": [
    "# keep desired columns and rename\n",
    "df = df.loc[:, [\"Date\", \"Currency\", \"Rate_c\"]]\n",
    "df.columns = [\"Date\", \"Currency\", \"Rate\"]\n",
    "df"
   ]
  },
  {
   "cell_type": "code",
   "execution_count": null,
   "metadata": {},
   "outputs": [],
   "source": [
    "# export file as xlsx to share with team\n",
    "df.to_excel(\"D:/Git/MChinchilla_GW_HW/07_Project_01/forex_dta.xlsx\")"
   ]
  }
 ],
 "metadata": {
  "kernelspec": {
   "display_name": "Python 3",
   "language": "python",
   "name": "python3"
  },
  "language_info": {
   "codemirror_mode": {
    "name": "ipython",
    "version": 3
   },
   "file_extension": ".py",
   "mimetype": "text/x-python",
   "name": "python",
   "nbconvert_exporter": "python",
   "pygments_lexer": "ipython3",
   "version": "3.7.3"
  }
 },
 "nbformat": 4,
 "nbformat_minor": 2
}
