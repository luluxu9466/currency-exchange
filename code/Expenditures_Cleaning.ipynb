{
 "cells": [
  {
   "cell_type": "code",
   "execution_count": 1,
   "metadata": {
    "collapsed": false,
    "jupyter": {
     "outputs_hidden": false
    }
   },
   "outputs": [],
   "source": [
    "import pandas as pd\n",
    "import datetime"
   ]
  },
  {
   "cell_type": "code",
   "execution_count": 2,
   "metadata": {
    "collapsed": false,
    "jupyter": {
     "outputs_hidden": false
    }
   },
   "outputs": [
    {
     "data": {
      "text/html": [
       "<div>\n",
       "<style scoped>\n",
       "    .dataframe tbody tr th:only-of-type {\n",
       "        vertical-align: middle;\n",
       "    }\n",
       "\n",
       "    .dataframe tbody tr th {\n",
       "        vertical-align: top;\n",
       "    }\n",
       "\n",
       "    .dataframe thead th {\n",
       "        text-align: right;\n",
       "    }\n",
       "</style>\n",
       "<table border=\"1\" class=\"dataframe\">\n",
       "  <thead>\n",
       "    <tr style=\"text-align: right;\">\n",
       "      <th></th>\n",
       "      <th>0</th>\n",
       "      <th>1</th>\n",
       "      <th>2</th>\n",
       "      <th>3</th>\n",
       "      <th>4</th>\n",
       "      <th>5</th>\n",
       "      <th>6</th>\n",
       "      <th>7</th>\n",
       "      <th>8</th>\n",
       "      <th>9</th>\n",
       "      <th>...</th>\n",
       "      <th>110</th>\n",
       "      <th>111</th>\n",
       "      <th>112</th>\n",
       "      <th>113</th>\n",
       "      <th>114</th>\n",
       "      <th>115</th>\n",
       "      <th>116</th>\n",
       "      <th>117</th>\n",
       "      <th>118</th>\n",
       "      <th>119</th>\n",
       "    </tr>\n",
       "  </thead>\n",
       "  <tbody>\n",
       "    <tr>\n",
       "      <th>0</th>\n",
       "      <td>1/1/2005</td>\n",
       "      <td>2/1/2005</td>\n",
       "      <td>3/1/2005</td>\n",
       "      <td>4/1/2005</td>\n",
       "      <td>5/1/2005</td>\n",
       "      <td>6/1/2005</td>\n",
       "      <td>7/1/2005</td>\n",
       "      <td>8/1/2005</td>\n",
       "      <td>9/1/2005</td>\n",
       "      <td>10/1/2005</td>\n",
       "      <td>...</td>\n",
       "      <td>3/1/2014</td>\n",
       "      <td>4/1/2014</td>\n",
       "      <td>5/1/2014</td>\n",
       "      <td>6/1/2014</td>\n",
       "      <td>7/1/2014</td>\n",
       "      <td>8/1/2014</td>\n",
       "      <td>9/1/2014</td>\n",
       "      <td>10/1/2014</td>\n",
       "      <td>11/1/2014</td>\n",
       "      <td>12/1/2014</td>\n",
       "    </tr>\n",
       "    <tr>\n",
       "      <th>1</th>\n",
       "      <td>$1,620.00</td>\n",
       "      <td>$1,768.00</td>\n",
       "      <td>$1,844.00</td>\n",
       "      <td>$1,987.00</td>\n",
       "      <td>$1,901.00</td>\n",
       "      <td>$1,816.00</td>\n",
       "      <td>$1,721.00</td>\n",
       "      <td>$1,697.00</td>\n",
       "      <td>$1,580.00</td>\n",
       "      <td>$1,640.00</td>\n",
       "      <td>...</td>\n",
       "      <td>$7,480.00</td>\n",
       "      <td>$7,692.00</td>\n",
       "      <td>$7,871.00</td>\n",
       "      <td>$7,826.00</td>\n",
       "      <td>$8,047.00</td>\n",
       "      <td>$8,142.00</td>\n",
       "      <td>$8,392.00</td>\n",
       "      <td>$8,234.00</td>\n",
       "      <td>$8,163.00</td>\n",
       "      <td>$8,197.00</td>\n",
       "    </tr>\n",
       "  </tbody>\n",
       "</table>\n",
       "<p>2 rows × 120 columns</p>\n",
       "</div>"
      ],
      "text/plain": [
       "          0           1           2           3           4           5    \\\n",
       "0    1/1/2005    2/1/2005    3/1/2005    4/1/2005    5/1/2005    6/1/2005   \n",
       "1  $1,620.00   $1,768.00   $1,844.00   $1,987.00   $1,901.00   $1,816.00    \n",
       "\n",
       "          6           7           8           9    ...         110  \\\n",
       "0    7/1/2005    8/1/2005    9/1/2005   10/1/2005  ...    3/1/2014   \n",
       "1  $1,721.00   $1,697.00   $1,580.00   $1,640.00   ...  $7,480.00    \n",
       "\n",
       "          111         112         113         114         115         116  \\\n",
       "0    4/1/2014    5/1/2014    6/1/2014    7/1/2014    8/1/2014    9/1/2014   \n",
       "1  $7,692.00   $7,871.00   $7,826.00   $8,047.00   $8,142.00   $8,392.00    \n",
       "\n",
       "          117         118         119  \n",
       "0   10/1/2014   11/1/2014   12/1/2014  \n",
       "1  $8,234.00   $8,163.00   $8,197.00   \n",
       "\n",
       "[2 rows x 120 columns]"
      ]
     },
     "execution_count": 2,
     "metadata": {},
     "output_type": "execute_result"
    }
   ],
   "source": [
    "file = \"../data_cleaning/travel_expenditures.csv\"\n",
    "\n",
    "df = pd.read_csv(file, header=None)\n",
    "df.dropna(axis=1)\n",
    "for x in range(120,132):\n",
    "    del df[x]\n",
    "df.head()"
   ]
  },
  {
   "cell_type": "code",
   "execution_count": 3,
   "metadata": {
    "collapsed": false,
    "jupyter": {
     "outputs_hidden": false
    }
   },
   "outputs": [
    {
     "data": {
      "text/html": [
       "<div>\n",
       "<style scoped>\n",
       "    .dataframe tbody tr th:only-of-type {\n",
       "        vertical-align: middle;\n",
       "    }\n",
       "\n",
       "    .dataframe tbody tr th {\n",
       "        vertical-align: top;\n",
       "    }\n",
       "\n",
       "    .dataframe thead th {\n",
       "        text-align: right;\n",
       "    }\n",
       "</style>\n",
       "<table border=\"1\" class=\"dataframe\">\n",
       "  <thead>\n",
       "    <tr style=\"text-align: right;\">\n",
       "      <th></th>\n",
       "      <th>0</th>\n",
       "      <th>1</th>\n",
       "    </tr>\n",
       "  </thead>\n",
       "  <tbody>\n",
       "    <tr>\n",
       "      <th>0</th>\n",
       "      <td>1/1/2005</td>\n",
       "      <td>$1,620.00</td>\n",
       "    </tr>\n",
       "    <tr>\n",
       "      <th>1</th>\n",
       "      <td>2/1/2005</td>\n",
       "      <td>$1,768.00</td>\n",
       "    </tr>\n",
       "    <tr>\n",
       "      <th>2</th>\n",
       "      <td>3/1/2005</td>\n",
       "      <td>$1,844.00</td>\n",
       "    </tr>\n",
       "    <tr>\n",
       "      <th>3</th>\n",
       "      <td>4/1/2005</td>\n",
       "      <td>$1,987.00</td>\n",
       "    </tr>\n",
       "    <tr>\n",
       "      <th>4</th>\n",
       "      <td>5/1/2005</td>\n",
       "      <td>$1,901.00</td>\n",
       "    </tr>\n",
       "  </tbody>\n",
       "</table>\n",
       "</div>"
      ],
      "text/plain": [
       "          0           1\n",
       "0  1/1/2005  $1,620.00 \n",
       "1  2/1/2005  $1,768.00 \n",
       "2  3/1/2005  $1,844.00 \n",
       "3  4/1/2005  $1,987.00 \n",
       "4  5/1/2005  $1,901.00 "
      ]
     },
     "execution_count": 3,
     "metadata": {},
     "output_type": "execute_result"
    }
   ],
   "source": [
    "df = df.transpose()\n",
    "df.head()"
   ]
  },
  {
   "cell_type": "code",
   "execution_count": 4,
   "metadata": {
    "collapsed": false,
    "jupyter": {
     "outputs_hidden": false
    }
   },
   "outputs": [
    {
     "data": {
      "text/html": [
       "<div>\n",
       "<style scoped>\n",
       "    .dataframe tbody tr th:only-of-type {\n",
       "        vertical-align: middle;\n",
       "    }\n",
       "\n",
       "    .dataframe tbody tr th {\n",
       "        vertical-align: top;\n",
       "    }\n",
       "\n",
       "    .dataframe thead th {\n",
       "        text-align: right;\n",
       "    }\n",
       "</style>\n",
       "<table border=\"1\" class=\"dataframe\">\n",
       "  <thead>\n",
       "    <tr style=\"text-align: right;\">\n",
       "      <th></th>\n",
       "      <th>Date</th>\n",
       "      <th>Expenditures</th>\n",
       "      <th>Year</th>\n",
       "      <th>Month</th>\n",
       "    </tr>\n",
       "  </thead>\n",
       "  <tbody>\n",
       "    <tr>\n",
       "      <th>0</th>\n",
       "      <td>1/1/2005</td>\n",
       "      <td>$1,620.00</td>\n",
       "      <td>2005</td>\n",
       "      <td>1</td>\n",
       "    </tr>\n",
       "    <tr>\n",
       "      <th>1</th>\n",
       "      <td>2/1/2005</td>\n",
       "      <td>$1,768.00</td>\n",
       "      <td>2005</td>\n",
       "      <td>2</td>\n",
       "    </tr>\n",
       "    <tr>\n",
       "      <th>2</th>\n",
       "      <td>3/1/2005</td>\n",
       "      <td>$1,844.00</td>\n",
       "      <td>2005</td>\n",
       "      <td>3</td>\n",
       "    </tr>\n",
       "    <tr>\n",
       "      <th>3</th>\n",
       "      <td>4/1/2005</td>\n",
       "      <td>$1,987.00</td>\n",
       "      <td>2005</td>\n",
       "      <td>4</td>\n",
       "    </tr>\n",
       "    <tr>\n",
       "      <th>4</th>\n",
       "      <td>5/1/2005</td>\n",
       "      <td>$1,901.00</td>\n",
       "      <td>2005</td>\n",
       "      <td>5</td>\n",
       "    </tr>\n",
       "  </tbody>\n",
       "</table>\n",
       "</div>"
      ],
      "text/plain": [
       "       Date Expenditures  Year  Month\n",
       "0  1/1/2005   $1,620.00   2005      1\n",
       "1  2/1/2005   $1,768.00   2005      2\n",
       "2  3/1/2005   $1,844.00   2005      3\n",
       "3  4/1/2005   $1,987.00   2005      4\n",
       "4  5/1/2005   $1,901.00   2005      5"
      ]
     },
     "execution_count": 4,
     "metadata": {},
     "output_type": "execute_result"
    }
   ],
   "source": [
    "df[\"Year\"] = pd.DatetimeIndex(df[0]).year\n",
    "df[\"Month\"] = pd.DatetimeIndex(df[0]).month\n",
    "df.columns = [\"Date\", \"Expenditures\", \"Year\", \"Month\"]\n",
    "df.head()"
   ]
  },
  {
   "cell_type": "code",
   "execution_count": 5,
   "metadata": {},
   "outputs": [],
   "source": [
    "df.to_csv(\"../data_cleaning/cleaned_travel_expenditures.csv\")"
   ]
  },
  {
   "cell_type": "code",
   "execution_count": null,
   "metadata": {
    "collapsed": true,
    "jupyter": {
     "outputs_hidden": true
    }
   },
   "outputs": [],
   "source": []
  }
 ],
 "metadata": {
  "kernelspec": {
   "display_name": "Python 3",
   "language": "python",
   "name": "python3"
  },
  "language_info": {
   "codemirror_mode": {
    "name": "ipython",
    "version": 3
   },
   "file_extension": ".py",
   "mimetype": "text/x-python",
   "name": "python",
   "nbconvert_exporter": "python",
   "pygments_lexer": "ipython3",
   "version": "3.7.3"
  }
 },
 "nbformat": 4,
 "nbformat_minor": 4
}
